{
 "cells": [
  {
   "cell_type": "code",
   "execution_count": 2,
   "id": "645f172b",
   "metadata": {},
   "outputs": [],
   "source": [
    "import pandas as pd\n",
    "import networkx as nx\n",
    "import matplotlib\n",
    "%matplotlib notebook\n",
    "import matplotlib.pyplot as plt\n",
    "from pprint import pprint\n",
    "import seaborn as sns\n",
    "import numpy as np\n",
    "from collections import Counter"
   ]
  },
  {
   "cell_type": "markdown",
   "id": "d4af16b1",
   "metadata": {},
   "source": [
    "# Getting familiar with the NetworkX python module"
   ]
  },
  {
   "cell_type": "markdown",
   "id": "477b4b67",
   "metadata": {},
   "source": [
    "### Building a network (or graph)"
   ]
  },
  {
   "cell_type": "code",
   "execution_count": 3,
   "id": "fe1590eb",
   "metadata": {},
   "outputs": [
    {
     "data": {
      "text/plain": "<IPython.core.display.Javascript object>",
      "application/javascript": "/* Put everything inside the global mpl namespace */\n/* global mpl */\nwindow.mpl = {};\n\nmpl.get_websocket_type = function () {\n    if (typeof WebSocket !== 'undefined') {\n        return WebSocket;\n    } else if (typeof MozWebSocket !== 'undefined') {\n        return MozWebSocket;\n    } else {\n        alert(\n            'Your browser does not have WebSocket support. ' +\n                'Please try Chrome, Safari or Firefox ≥ 6. ' +\n                'Firefox 4 and 5 are also supported but you ' +\n                'have to enable WebSockets in about:config.'\n        );\n    }\n};\n\nmpl.figure = function (figure_id, websocket, ondownload, parent_element) {\n    this.id = figure_id;\n\n    this.ws = websocket;\n\n    this.supports_binary = this.ws.binaryType !== undefined;\n\n    if (!this.supports_binary) {\n        var warnings = document.getElementById('mpl-warnings');\n        if (warnings) {\n            warnings.style.display = 'block';\n            warnings.textContent =\n                'This browser does not support binary websocket messages. ' +\n                'Performance may be slow.';\n        }\n    }\n\n    this.imageObj = new Image();\n\n    this.context = undefined;\n    this.message = undefined;\n    this.canvas = undefined;\n    this.rubberband_canvas = undefined;\n    this.rubberband_context = undefined;\n    this.format_dropdown = undefined;\n\n    this.image_mode = 'full';\n\n    this.root = document.createElement('div');\n    this.root.setAttribute('style', 'display: inline-block');\n    this._root_extra_style(this.root);\n\n    parent_element.appendChild(this.root);\n\n    this._init_header(this);\n    this._init_canvas(this);\n    this._init_toolbar(this);\n\n    var fig = this;\n\n    this.waiting = false;\n\n    this.ws.onopen = function () {\n        fig.send_message('supports_binary', { value: fig.supports_binary });\n        fig.send_message('send_image_mode', {});\n        if (fig.ratio !== 1) {\n            fig.send_message('set_dpi_ratio', { dpi_ratio: fig.ratio });\n        }\n        fig.send_message('refresh', {});\n    };\n\n    this.imageObj.onload = function () {\n        if (fig.image_mode === 'full') {\n            // Full images could contain transparency (where diff images\n            // almost always do), so we need to clear the canvas so that\n            // there is no ghosting.\n            fig.context.clearRect(0, 0, fig.canvas.width, fig.canvas.height);\n        }\n        fig.context.drawImage(fig.imageObj, 0, 0);\n    };\n\n    this.imageObj.onunload = function () {\n        fig.ws.close();\n    };\n\n    this.ws.onmessage = this._make_on_message_function(this);\n\n    this.ondownload = ondownload;\n};\n\nmpl.figure.prototype._init_header = function () {\n    var titlebar = document.createElement('div');\n    titlebar.classList =\n        'ui-dialog-titlebar ui-widget-header ui-corner-all ui-helper-clearfix';\n    var titletext = document.createElement('div');\n    titletext.classList = 'ui-dialog-title';\n    titletext.setAttribute(\n        'style',\n        'width: 100%; text-align: center; padding: 3px;'\n    );\n    titlebar.appendChild(titletext);\n    this.root.appendChild(titlebar);\n    this.header = titletext;\n};\n\nmpl.figure.prototype._canvas_extra_style = function (_canvas_div) {};\n\nmpl.figure.prototype._root_extra_style = function (_canvas_div) {};\n\nmpl.figure.prototype._init_canvas = function () {\n    var fig = this;\n\n    var canvas_div = (this.canvas_div = document.createElement('div'));\n    canvas_div.setAttribute(\n        'style',\n        'border: 1px solid #ddd;' +\n            'box-sizing: content-box;' +\n            'clear: both;' +\n            'min-height: 1px;' +\n            'min-width: 1px;' +\n            'outline: 0;' +\n            'overflow: hidden;' +\n            'position: relative;' +\n            'resize: both;'\n    );\n\n    function on_keyboard_event_closure(name) {\n        return function (event) {\n            return fig.key_event(event, name);\n        };\n    }\n\n    canvas_div.addEventListener(\n        'keydown',\n        on_keyboard_event_closure('key_press')\n    );\n    canvas_div.addEventListener(\n        'keyup',\n        on_keyboard_event_closure('key_release')\n    );\n\n    this._canvas_extra_style(canvas_div);\n    this.root.appendChild(canvas_div);\n\n    var canvas = (this.canvas = document.createElement('canvas'));\n    canvas.classList.add('mpl-canvas');\n    canvas.setAttribute('style', 'box-sizing: content-box;');\n\n    this.context = canvas.getContext('2d');\n\n    var backingStore =\n        this.context.backingStorePixelRatio ||\n        this.context.webkitBackingStorePixelRatio ||\n        this.context.mozBackingStorePixelRatio ||\n        this.context.msBackingStorePixelRatio ||\n        this.context.oBackingStorePixelRatio ||\n        this.context.backingStorePixelRatio ||\n        1;\n\n    this.ratio = (window.devicePixelRatio || 1) / backingStore;\n\n    var rubberband_canvas = (this.rubberband_canvas = document.createElement(\n        'canvas'\n    ));\n    rubberband_canvas.setAttribute(\n        'style',\n        'box-sizing: content-box; position: absolute; left: 0; top: 0; z-index: 1;'\n    );\n\n    // Apply a ponyfill if ResizeObserver is not implemented by browser.\n    if (this.ResizeObserver === undefined) {\n        if (window.ResizeObserver !== undefined) {\n            this.ResizeObserver = window.ResizeObserver;\n        } else {\n            var obs = _JSXTOOLS_RESIZE_OBSERVER({});\n            this.ResizeObserver = obs.ResizeObserver;\n        }\n    }\n\n    this.resizeObserverInstance = new this.ResizeObserver(function (entries) {\n        var nentries = entries.length;\n        for (var i = 0; i < nentries; i++) {\n            var entry = entries[i];\n            var width, height;\n            if (entry.contentBoxSize) {\n                if (entry.contentBoxSize instanceof Array) {\n                    // Chrome 84 implements new version of spec.\n                    width = entry.contentBoxSize[0].inlineSize;\n                    height = entry.contentBoxSize[0].blockSize;\n                } else {\n                    // Firefox implements old version of spec.\n                    width = entry.contentBoxSize.inlineSize;\n                    height = entry.contentBoxSize.blockSize;\n                }\n            } else {\n                // Chrome <84 implements even older version of spec.\n                width = entry.contentRect.width;\n                height = entry.contentRect.height;\n            }\n\n            // Keep the size of the canvas and rubber band canvas in sync with\n            // the canvas container.\n            if (entry.devicePixelContentBoxSize) {\n                // Chrome 84 implements new version of spec.\n                canvas.setAttribute(\n                    'width',\n                    entry.devicePixelContentBoxSize[0].inlineSize\n                );\n                canvas.setAttribute(\n                    'height',\n                    entry.devicePixelContentBoxSize[0].blockSize\n                );\n            } else {\n                canvas.setAttribute('width', width * fig.ratio);\n                canvas.setAttribute('height', height * fig.ratio);\n            }\n            canvas.setAttribute(\n                'style',\n                'width: ' + width + 'px; height: ' + height + 'px;'\n            );\n\n            rubberband_canvas.setAttribute('width', width);\n            rubberband_canvas.setAttribute('height', height);\n\n            // And update the size in Python. We ignore the initial 0/0 size\n            // that occurs as the element is placed into the DOM, which should\n            // otherwise not happen due to the minimum size styling.\n            if (fig.ws.readyState == 1 && width != 0 && height != 0) {\n                fig.request_resize(width, height);\n            }\n        }\n    });\n    this.resizeObserverInstance.observe(canvas_div);\n\n    function on_mouse_event_closure(name) {\n        return function (event) {\n            return fig.mouse_event(event, name);\n        };\n    }\n\n    rubberband_canvas.addEventListener(\n        'mousedown',\n        on_mouse_event_closure('button_press')\n    );\n    rubberband_canvas.addEventListener(\n        'mouseup',\n        on_mouse_event_closure('button_release')\n    );\n    rubberband_canvas.addEventListener(\n        'dblclick',\n        on_mouse_event_closure('dblclick')\n    );\n    // Throttle sequential mouse events to 1 every 20ms.\n    rubberband_canvas.addEventListener(\n        'mousemove',\n        on_mouse_event_closure('motion_notify')\n    );\n\n    rubberband_canvas.addEventListener(\n        'mouseenter',\n        on_mouse_event_closure('figure_enter')\n    );\n    rubberband_canvas.addEventListener(\n        'mouseleave',\n        on_mouse_event_closure('figure_leave')\n    );\n\n    canvas_div.addEventListener('wheel', function (event) {\n        if (event.deltaY < 0) {\n            event.step = 1;\n        } else {\n            event.step = -1;\n        }\n        on_mouse_event_closure('scroll')(event);\n    });\n\n    canvas_div.appendChild(canvas);\n    canvas_div.appendChild(rubberband_canvas);\n\n    this.rubberband_context = rubberband_canvas.getContext('2d');\n    this.rubberband_context.strokeStyle = '#000000';\n\n    this._resize_canvas = function (width, height, forward) {\n        if (forward) {\n            canvas_div.style.width = width + 'px';\n            canvas_div.style.height = height + 'px';\n        }\n    };\n\n    // Disable right mouse context menu.\n    this.rubberband_canvas.addEventListener('contextmenu', function (_e) {\n        event.preventDefault();\n        return false;\n    });\n\n    function set_focus() {\n        canvas.focus();\n        canvas_div.focus();\n    }\n\n    window.setTimeout(set_focus, 100);\n};\n\nmpl.figure.prototype._init_toolbar = function () {\n    var fig = this;\n\n    var toolbar = document.createElement('div');\n    toolbar.classList = 'mpl-toolbar';\n    this.root.appendChild(toolbar);\n\n    function on_click_closure(name) {\n        return function (_event) {\n            return fig.toolbar_button_onclick(name);\n        };\n    }\n\n    function on_mouseover_closure(tooltip) {\n        return function (event) {\n            if (!event.currentTarget.disabled) {\n                return fig.toolbar_button_onmouseover(tooltip);\n            }\n        };\n    }\n\n    fig.buttons = {};\n    var buttonGroup = document.createElement('div');\n    buttonGroup.classList = 'mpl-button-group';\n    for (var toolbar_ind in mpl.toolbar_items) {\n        var name = mpl.toolbar_items[toolbar_ind][0];\n        var tooltip = mpl.toolbar_items[toolbar_ind][1];\n        var image = mpl.toolbar_items[toolbar_ind][2];\n        var method_name = mpl.toolbar_items[toolbar_ind][3];\n\n        if (!name) {\n            /* Instead of a spacer, we start a new button group. */\n            if (buttonGroup.hasChildNodes()) {\n                toolbar.appendChild(buttonGroup);\n            }\n            buttonGroup = document.createElement('div');\n            buttonGroup.classList = 'mpl-button-group';\n            continue;\n        }\n\n        var button = (fig.buttons[name] = document.createElement('button'));\n        button.classList = 'mpl-widget';\n        button.setAttribute('role', 'button');\n        button.setAttribute('aria-disabled', 'false');\n        button.addEventListener('click', on_click_closure(method_name));\n        button.addEventListener('mouseover', on_mouseover_closure(tooltip));\n\n        var icon_img = document.createElement('img');\n        icon_img.src = '_images/' + image + '.png';\n        icon_img.srcset = '_images/' + image + '_large.png 2x';\n        icon_img.alt = tooltip;\n        button.appendChild(icon_img);\n\n        buttonGroup.appendChild(button);\n    }\n\n    if (buttonGroup.hasChildNodes()) {\n        toolbar.appendChild(buttonGroup);\n    }\n\n    var fmt_picker = document.createElement('select');\n    fmt_picker.classList = 'mpl-widget';\n    toolbar.appendChild(fmt_picker);\n    this.format_dropdown = fmt_picker;\n\n    for (var ind in mpl.extensions) {\n        var fmt = mpl.extensions[ind];\n        var option = document.createElement('option');\n        option.selected = fmt === mpl.default_extension;\n        option.innerHTML = fmt;\n        fmt_picker.appendChild(option);\n    }\n\n    var status_bar = document.createElement('span');\n    status_bar.classList = 'mpl-message';\n    toolbar.appendChild(status_bar);\n    this.message = status_bar;\n};\n\nmpl.figure.prototype.request_resize = function (x_pixels, y_pixels) {\n    // Request matplotlib to resize the figure. Matplotlib will then trigger a resize in the client,\n    // which will in turn request a refresh of the image.\n    this.send_message('resize', { width: x_pixels, height: y_pixels });\n};\n\nmpl.figure.prototype.send_message = function (type, properties) {\n    properties['type'] = type;\n    properties['figure_id'] = this.id;\n    this.ws.send(JSON.stringify(properties));\n};\n\nmpl.figure.prototype.send_draw_message = function () {\n    if (!this.waiting) {\n        this.waiting = true;\n        this.ws.send(JSON.stringify({ type: 'draw', figure_id: this.id }));\n    }\n};\n\nmpl.figure.prototype.handle_save = function (fig, _msg) {\n    var format_dropdown = fig.format_dropdown;\n    var format = format_dropdown.options[format_dropdown.selectedIndex].value;\n    fig.ondownload(fig, format);\n};\n\nmpl.figure.prototype.handle_resize = function (fig, msg) {\n    var size = msg['size'];\n    if (size[0] !== fig.canvas.width || size[1] !== fig.canvas.height) {\n        fig._resize_canvas(size[0], size[1], msg['forward']);\n        fig.send_message('refresh', {});\n    }\n};\n\nmpl.figure.prototype.handle_rubberband = function (fig, msg) {\n    var x0 = msg['x0'] / fig.ratio;\n    var y0 = (fig.canvas.height - msg['y0']) / fig.ratio;\n    var x1 = msg['x1'] / fig.ratio;\n    var y1 = (fig.canvas.height - msg['y1']) / fig.ratio;\n    x0 = Math.floor(x0) + 0.5;\n    y0 = Math.floor(y0) + 0.5;\n    x1 = Math.floor(x1) + 0.5;\n    y1 = Math.floor(y1) + 0.5;\n    var min_x = Math.min(x0, x1);\n    var min_y = Math.min(y0, y1);\n    var width = Math.abs(x1 - x0);\n    var height = Math.abs(y1 - y0);\n\n    fig.rubberband_context.clearRect(\n        0,\n        0,\n        fig.canvas.width / fig.ratio,\n        fig.canvas.height / fig.ratio\n    );\n\n    fig.rubberband_context.strokeRect(min_x, min_y, width, height);\n};\n\nmpl.figure.prototype.handle_figure_label = function (fig, msg) {\n    // Updates the figure title.\n    fig.header.textContent = msg['label'];\n};\n\nmpl.figure.prototype.handle_cursor = function (fig, msg) {\n    var cursor = msg['cursor'];\n    switch (cursor) {\n        case 0:\n            cursor = 'pointer';\n            break;\n        case 1:\n            cursor = 'default';\n            break;\n        case 2:\n            cursor = 'crosshair';\n            break;\n        case 3:\n            cursor = 'move';\n            break;\n    }\n    fig.rubberband_canvas.style.cursor = cursor;\n};\n\nmpl.figure.prototype.handle_message = function (fig, msg) {\n    fig.message.textContent = msg['message'];\n};\n\nmpl.figure.prototype.handle_draw = function (fig, _msg) {\n    // Request the server to send over a new figure.\n    fig.send_draw_message();\n};\n\nmpl.figure.prototype.handle_image_mode = function (fig, msg) {\n    fig.image_mode = msg['mode'];\n};\n\nmpl.figure.prototype.handle_history_buttons = function (fig, msg) {\n    for (var key in msg) {\n        if (!(key in fig.buttons)) {\n            continue;\n        }\n        fig.buttons[key].disabled = !msg[key];\n        fig.buttons[key].setAttribute('aria-disabled', !msg[key]);\n    }\n};\n\nmpl.figure.prototype.handle_navigate_mode = function (fig, msg) {\n    if (msg['mode'] === 'PAN') {\n        fig.buttons['Pan'].classList.add('active');\n        fig.buttons['Zoom'].classList.remove('active');\n    } else if (msg['mode'] === 'ZOOM') {\n        fig.buttons['Pan'].classList.remove('active');\n        fig.buttons['Zoom'].classList.add('active');\n    } else {\n        fig.buttons['Pan'].classList.remove('active');\n        fig.buttons['Zoom'].classList.remove('active');\n    }\n};\n\nmpl.figure.prototype.updated_canvas_event = function () {\n    // Called whenever the canvas gets updated.\n    this.send_message('ack', {});\n};\n\n// A function to construct a web socket function for onmessage handling.\n// Called in the figure constructor.\nmpl.figure.prototype._make_on_message_function = function (fig) {\n    return function socket_on_message(evt) {\n        if (evt.data instanceof Blob) {\n            var img = evt.data;\n            if (img.type !== 'image/png') {\n                /* FIXME: We get \"Resource interpreted as Image but\n                 * transferred with MIME type text/plain:\" errors on\n                 * Chrome.  But how to set the MIME type?  It doesn't seem\n                 * to be part of the websocket stream */\n                img.type = 'image/png';\n            }\n\n            /* Free the memory for the previous frames */\n            if (fig.imageObj.src) {\n                (window.URL || window.webkitURL).revokeObjectURL(\n                    fig.imageObj.src\n                );\n            }\n\n            fig.imageObj.src = (window.URL || window.webkitURL).createObjectURL(\n                img\n            );\n            fig.updated_canvas_event();\n            fig.waiting = false;\n            return;\n        } else if (\n            typeof evt.data === 'string' &&\n            evt.data.slice(0, 21) === 'data:image/png;base64'\n        ) {\n            fig.imageObj.src = evt.data;\n            fig.updated_canvas_event();\n            fig.waiting = false;\n            return;\n        }\n\n        var msg = JSON.parse(evt.data);\n        var msg_type = msg['type'];\n\n        // Call the  \"handle_{type}\" callback, which takes\n        // the figure and JSON message as its only arguments.\n        try {\n            var callback = fig['handle_' + msg_type];\n        } catch (e) {\n            console.log(\n                \"No handler for the '\" + msg_type + \"' message type: \",\n                msg\n            );\n            return;\n        }\n\n        if (callback) {\n            try {\n                // console.log(\"Handling '\" + msg_type + \"' message: \", msg);\n                callback(fig, msg);\n            } catch (e) {\n                console.log(\n                    \"Exception inside the 'handler_\" + msg_type + \"' callback:\",\n                    e,\n                    e.stack,\n                    msg\n                );\n            }\n        }\n    };\n};\n\n// from http://stackoverflow.com/questions/1114465/getting-mouse-location-in-canvas\nmpl.findpos = function (e) {\n    //this section is from http://www.quirksmode.org/js/events_properties.html\n    var targ;\n    if (!e) {\n        e = window.event;\n    }\n    if (e.target) {\n        targ = e.target;\n    } else if (e.srcElement) {\n        targ = e.srcElement;\n    }\n    if (targ.nodeType === 3) {\n        // defeat Safari bug\n        targ = targ.parentNode;\n    }\n\n    // pageX,Y are the mouse positions relative to the document\n    var boundingRect = targ.getBoundingClientRect();\n    var x = e.pageX - (boundingRect.left + document.body.scrollLeft);\n    var y = e.pageY - (boundingRect.top + document.body.scrollTop);\n\n    return { x: x, y: y };\n};\n\n/*\n * return a copy of an object with only non-object keys\n * we need this to avoid circular references\n * http://stackoverflow.com/a/24161582/3208463\n */\nfunction simpleKeys(original) {\n    return Object.keys(original).reduce(function (obj, key) {\n        if (typeof original[key] !== 'object') {\n            obj[key] = original[key];\n        }\n        return obj;\n    }, {});\n}\n\nmpl.figure.prototype.mouse_event = function (event, name) {\n    var canvas_pos = mpl.findpos(event);\n\n    if (name === 'button_press') {\n        this.canvas.focus();\n        this.canvas_div.focus();\n    }\n\n    var x = canvas_pos.x * this.ratio;\n    var y = canvas_pos.y * this.ratio;\n\n    this.send_message(name, {\n        x: x,\n        y: y,\n        button: event.button,\n        step: event.step,\n        guiEvent: simpleKeys(event),\n    });\n\n    /* This prevents the web browser from automatically changing to\n     * the text insertion cursor when the button is pressed.  We want\n     * to control all of the cursor setting manually through the\n     * 'cursor' event from matplotlib */\n    event.preventDefault();\n    return false;\n};\n\nmpl.figure.prototype._key_event_extra = function (_event, _name) {\n    // Handle any extra behaviour associated with a key event\n};\n\nmpl.figure.prototype.key_event = function (event, name) {\n    // Prevent repeat events\n    if (name === 'key_press') {\n        if (event.key === this._key) {\n            return;\n        } else {\n            this._key = event.key;\n        }\n    }\n    if (name === 'key_release') {\n        this._key = null;\n    }\n\n    var value = '';\n    if (event.ctrlKey && event.key !== 'Control') {\n        value += 'ctrl+';\n    }\n    else if (event.altKey && event.key !== 'Alt') {\n        value += 'alt+';\n    }\n    else if (event.shiftKey && event.key !== 'Shift') {\n        value += 'shift+';\n    }\n\n    value += 'k' + event.key;\n\n    this._key_event_extra(event, name);\n\n    this.send_message(name, { key: value, guiEvent: simpleKeys(event) });\n    return false;\n};\n\nmpl.figure.prototype.toolbar_button_onclick = function (name) {\n    if (name === 'download') {\n        this.handle_save(this, null);\n    } else {\n        this.send_message('toolbar_button', { name: name });\n    }\n};\n\nmpl.figure.prototype.toolbar_button_onmouseover = function (tooltip) {\n    this.message.textContent = tooltip;\n};\n\n///////////////// REMAINING CONTENT GENERATED BY embed_js.py /////////////////\n// prettier-ignore\nvar _JSXTOOLS_RESIZE_OBSERVER=function(A){var t,i=new WeakMap,n=new WeakMap,a=new WeakMap,r=new WeakMap,o=new Set;function s(e){if(!(this instanceof s))throw new TypeError(\"Constructor requires 'new' operator\");i.set(this,e)}function h(){throw new TypeError(\"Function is not a constructor\")}function c(e,t,i,n){e=0 in arguments?Number(arguments[0]):0,t=1 in arguments?Number(arguments[1]):0,i=2 in arguments?Number(arguments[2]):0,n=3 in arguments?Number(arguments[3]):0,this.right=(this.x=this.left=e)+(this.width=i),this.bottom=(this.y=this.top=t)+(this.height=n),Object.freeze(this)}function d(){t=requestAnimationFrame(d);var s=new WeakMap,p=new Set;o.forEach((function(t){r.get(t).forEach((function(i){var r=t instanceof window.SVGElement,o=a.get(t),d=r?0:parseFloat(o.paddingTop),f=r?0:parseFloat(o.paddingRight),l=r?0:parseFloat(o.paddingBottom),u=r?0:parseFloat(o.paddingLeft),g=r?0:parseFloat(o.borderTopWidth),m=r?0:parseFloat(o.borderRightWidth),w=r?0:parseFloat(o.borderBottomWidth),b=u+f,F=d+l,v=(r?0:parseFloat(o.borderLeftWidth))+m,W=g+w,y=r?0:t.offsetHeight-W-t.clientHeight,E=r?0:t.offsetWidth-v-t.clientWidth,R=b+v,z=F+W,M=r?t.width:parseFloat(o.width)-R-E,O=r?t.height:parseFloat(o.height)-z-y;if(n.has(t)){var k=n.get(t);if(k[0]===M&&k[1]===O)return}n.set(t,[M,O]);var S=Object.create(h.prototype);S.target=t,S.contentRect=new c(u,d,M,O),s.has(i)||(s.set(i,[]),p.add(i)),s.get(i).push(S)}))})),p.forEach((function(e){i.get(e).call(e,s.get(e),e)}))}return s.prototype.observe=function(i){if(i instanceof window.Element){r.has(i)||(r.set(i,new Set),o.add(i),a.set(i,window.getComputedStyle(i)));var n=r.get(i);n.has(this)||n.add(this),cancelAnimationFrame(t),t=requestAnimationFrame(d)}},s.prototype.unobserve=function(i){if(i instanceof window.Element&&r.has(i)){var n=r.get(i);n.has(this)&&(n.delete(this),n.size||(r.delete(i),o.delete(i))),n.size||r.delete(i),o.size||cancelAnimationFrame(t)}},A.DOMRectReadOnly=c,A.ResizeObserver=s,A.ResizeObserverEntry=h,A}; // eslint-disable-line\nmpl.toolbar_items = [[\"Home\", \"Reset original view\", \"fa fa-home icon-home\", \"home\"], [\"Back\", \"Back to previous view\", \"fa fa-arrow-left icon-arrow-left\", \"back\"], [\"Forward\", \"Forward to next view\", \"fa fa-arrow-right icon-arrow-right\", \"forward\"], [\"\", \"\", \"\", \"\"], [\"Pan\", \"Left button pans, Right button zooms\\nx/y fixes axis, CTRL fixes aspect\", \"fa fa-arrows icon-move\", \"pan\"], [\"Zoom\", \"Zoom to rectangle\\nx/y fixes axis, CTRL fixes aspect\", \"fa fa-square-o icon-check-empty\", \"zoom\"], [\"\", \"\", \"\", \"\"], [\"Download\", \"Download plot\", \"fa fa-floppy-o icon-save\", \"download\"]];\n\nmpl.extensions = [\"eps\", \"jpeg\", \"pgf\", \"pdf\", \"png\", \"ps\", \"raw\", \"svg\", \"tif\"];\n\nmpl.default_extension = \"png\";/* global mpl */\n\nvar comm_websocket_adapter = function (comm) {\n    // Create a \"websocket\"-like object which calls the given IPython comm\n    // object with the appropriate methods. Currently this is a non binary\n    // socket, so there is still some room for performance tuning.\n    var ws = {};\n\n    ws.binaryType = comm.kernel.ws.binaryType;\n    ws.readyState = comm.kernel.ws.readyState;\n    function updateReadyState(_event) {\n        if (comm.kernel.ws) {\n            ws.readyState = comm.kernel.ws.readyState;\n        } else {\n            ws.readyState = 3; // Closed state.\n        }\n    }\n    comm.kernel.ws.addEventListener('open', updateReadyState);\n    comm.kernel.ws.addEventListener('close', updateReadyState);\n    comm.kernel.ws.addEventListener('error', updateReadyState);\n\n    ws.close = function () {\n        comm.close();\n    };\n    ws.send = function (m) {\n        //console.log('sending', m);\n        comm.send(m);\n    };\n    // Register the callback with on_msg.\n    comm.on_msg(function (msg) {\n        //console.log('receiving', msg['content']['data'], msg);\n        var data = msg['content']['data'];\n        if (data['blob'] !== undefined) {\n            data = {\n                data: new Blob(msg['buffers'], { type: data['blob'] }),\n            };\n        }\n        // Pass the mpl event to the overridden (by mpl) onmessage function.\n        ws.onmessage(data);\n    });\n    return ws;\n};\n\nmpl.mpl_figure_comm = function (comm, msg) {\n    // This is the function which gets called when the mpl process\n    // starts-up an IPython Comm through the \"matplotlib\" channel.\n\n    var id = msg.content.data.id;\n    // Get hold of the div created by the display call when the Comm\n    // socket was opened in Python.\n    var element = document.getElementById(id);\n    var ws_proxy = comm_websocket_adapter(comm);\n\n    function ondownload(figure, _format) {\n        window.open(figure.canvas.toDataURL());\n    }\n\n    var fig = new mpl.figure(id, ws_proxy, ondownload, element);\n\n    // Call onopen now - mpl needs it, as it is assuming we've passed it a real\n    // web socket which is closed, not our websocket->open comm proxy.\n    ws_proxy.onopen();\n\n    fig.parent_element = element;\n    fig.cell_info = mpl.find_output_cell(\"<div id='\" + id + \"'></div>\");\n    if (!fig.cell_info) {\n        console.error('Failed to find cell for figure', id, fig);\n        return;\n    }\n    fig.cell_info[0].output_area.element.on(\n        'cleared',\n        { fig: fig },\n        fig._remove_fig_handler\n    );\n};\n\nmpl.figure.prototype.handle_close = function (fig, msg) {\n    var width = fig.canvas.width / fig.ratio;\n    fig.cell_info[0].output_area.element.off(\n        'cleared',\n        fig._remove_fig_handler\n    );\n    fig.resizeObserverInstance.unobserve(fig.canvas_div);\n\n    // Update the output cell to use the data from the current canvas.\n    fig.push_to_output();\n    var dataURL = fig.canvas.toDataURL();\n    // Re-enable the keyboard manager in IPython - without this line, in FF,\n    // the notebook keyboard shortcuts fail.\n    IPython.keyboard_manager.enable();\n    fig.parent_element.innerHTML =\n        '<img src=\"' + dataURL + '\" width=\"' + width + '\">';\n    fig.close_ws(fig, msg);\n};\n\nmpl.figure.prototype.close_ws = function (fig, msg) {\n    fig.send_message('closing', msg);\n    // fig.ws.close()\n};\n\nmpl.figure.prototype.push_to_output = function (_remove_interactive) {\n    // Turn the data on the canvas into data in the output cell.\n    var width = this.canvas.width / this.ratio;\n    var dataURL = this.canvas.toDataURL();\n    this.cell_info[1]['text/html'] =\n        '<img src=\"' + dataURL + '\" width=\"' + width + '\">';\n};\n\nmpl.figure.prototype.updated_canvas_event = function () {\n    // Tell IPython that the notebook contents must change.\n    IPython.notebook.set_dirty(true);\n    this.send_message('ack', {});\n    var fig = this;\n    // Wait a second, then push the new image to the DOM so\n    // that it is saved nicely (might be nice to debounce this).\n    setTimeout(function () {\n        fig.push_to_output();\n    }, 1000);\n};\n\nmpl.figure.prototype._init_toolbar = function () {\n    var fig = this;\n\n    var toolbar = document.createElement('div');\n    toolbar.classList = 'btn-toolbar';\n    this.root.appendChild(toolbar);\n\n    function on_click_closure(name) {\n        return function (_event) {\n            return fig.toolbar_button_onclick(name);\n        };\n    }\n\n    function on_mouseover_closure(tooltip) {\n        return function (event) {\n            if (!event.currentTarget.disabled) {\n                return fig.toolbar_button_onmouseover(tooltip);\n            }\n        };\n    }\n\n    fig.buttons = {};\n    var buttonGroup = document.createElement('div');\n    buttonGroup.classList = 'btn-group';\n    var button;\n    for (var toolbar_ind in mpl.toolbar_items) {\n        var name = mpl.toolbar_items[toolbar_ind][0];\n        var tooltip = mpl.toolbar_items[toolbar_ind][1];\n        var image = mpl.toolbar_items[toolbar_ind][2];\n        var method_name = mpl.toolbar_items[toolbar_ind][3];\n\n        if (!name) {\n            /* Instead of a spacer, we start a new button group. */\n            if (buttonGroup.hasChildNodes()) {\n                toolbar.appendChild(buttonGroup);\n            }\n            buttonGroup = document.createElement('div');\n            buttonGroup.classList = 'btn-group';\n            continue;\n        }\n\n        button = fig.buttons[name] = document.createElement('button');\n        button.classList = 'btn btn-default';\n        button.href = '#';\n        button.title = name;\n        button.innerHTML = '<i class=\"fa ' + image + ' fa-lg\"></i>';\n        button.addEventListener('click', on_click_closure(method_name));\n        button.addEventListener('mouseover', on_mouseover_closure(tooltip));\n        buttonGroup.appendChild(button);\n    }\n\n    if (buttonGroup.hasChildNodes()) {\n        toolbar.appendChild(buttonGroup);\n    }\n\n    // Add the status bar.\n    var status_bar = document.createElement('span');\n    status_bar.classList = 'mpl-message pull-right';\n    toolbar.appendChild(status_bar);\n    this.message = status_bar;\n\n    // Add the close button to the window.\n    var buttongrp = document.createElement('div');\n    buttongrp.classList = 'btn-group inline pull-right';\n    button = document.createElement('button');\n    button.classList = 'btn btn-mini btn-primary';\n    button.href = '#';\n    button.title = 'Stop Interaction';\n    button.innerHTML = '<i class=\"fa fa-power-off icon-remove icon-large\"></i>';\n    button.addEventListener('click', function (_evt) {\n        fig.handle_close(fig, {});\n    });\n    button.addEventListener(\n        'mouseover',\n        on_mouseover_closure('Stop Interaction')\n    );\n    buttongrp.appendChild(button);\n    var titlebar = this.root.querySelector('.ui-dialog-titlebar');\n    titlebar.insertBefore(buttongrp, titlebar.firstChild);\n};\n\nmpl.figure.prototype._remove_fig_handler = function (event) {\n    var fig = event.data.fig;\n    if (event.target !== this) {\n        // Ignore bubbled events from children.\n        return;\n    }\n    fig.close_ws(fig, {});\n};\n\nmpl.figure.prototype._root_extra_style = function (el) {\n    el.style.boxSizing = 'content-box'; // override notebook setting of border-box.\n};\n\nmpl.figure.prototype._canvas_extra_style = function (el) {\n    // this is important to make the div 'focusable\n    el.setAttribute('tabindex', 0);\n    // reach out to IPython and tell the keyboard manager to turn it's self\n    // off when our div gets focus\n\n    // location in version 3\n    if (IPython.notebook.keyboard_manager) {\n        IPython.notebook.keyboard_manager.register_events(el);\n    } else {\n        // location in version 2\n        IPython.keyboard_manager.register_events(el);\n    }\n};\n\nmpl.figure.prototype._key_event_extra = function (event, _name) {\n    var manager = IPython.notebook.keyboard_manager;\n    if (!manager) {\n        manager = IPython.keyboard_manager;\n    }\n\n    // Check for shift+enter\n    if (event.shiftKey && event.which === 13) {\n        this.canvas_div.blur();\n        // select the cell after this one\n        var index = IPython.notebook.find_cell_index(this.cell_info[0]);\n        IPython.notebook.select(index + 1);\n    }\n};\n\nmpl.figure.prototype.handle_save = function (fig, _msg) {\n    fig.ondownload(fig, null);\n};\n\nmpl.find_output_cell = function (html_output) {\n    // Return the cell and output element which can be found *uniquely* in the notebook.\n    // Note - this is a bit hacky, but it is done because the \"notebook_saving.Notebook\"\n    // IPython event is triggered only after the cells have been serialised, which for\n    // our purposes (turning an active figure into a static one), is too late.\n    var cells = IPython.notebook.get_cells();\n    var ncells = cells.length;\n    for (var i = 0; i < ncells; i++) {\n        var cell = cells[i];\n        if (cell.cell_type === 'code') {\n            for (var j = 0; j < cell.output_area.outputs.length; j++) {\n                var data = cell.output_area.outputs[j];\n                if (data.data) {\n                    // IPython >= 3 moved mimebundle to data attribute of output\n                    data = data.data;\n                }\n                if (data['text/html'] === html_output) {\n                    return [cell, data, j];\n                }\n            }\n        }\n    }\n};\n\n// Register the function which deals with the matplotlib target/channel.\n// The kernel may be null if the page has been refreshed.\nif (IPython.notebook.kernel !== null) {\n    IPython.notebook.kernel.comm_manager.register_target(\n        'matplotlib',\n        mpl.mpl_figure_comm\n    );\n}\n"
     },
     "metadata": {},
     "output_type": "display_data"
    },
    {
     "data": {
      "text/plain": "<IPython.core.display.HTML object>",
      "text/html": "<div id='4de38c37-e0e0-437f-b115-ba3a37f3e060'></div>"
     },
     "metadata": {},
     "output_type": "display_data"
    }
   ],
   "source": [
    "''## Undirected graph\n",
    "Gud = nx.Graph()\n",
    "## Add nodes\n",
    "Gud.add_node(0)\n",
    "Gud.add_node(1)\n",
    "## Add links / edges\n",
    "Gud.add_edge(0,1)\n",
    "nx.draw_networkx(Gud)"
   ]
  },
  {
   "cell_type": "code",
   "execution_count": 4,
   "id": "bf312124",
   "metadata": {},
   "outputs": [],
   "source": [
    "## Directed graph\n",
    "Gdir = nx.DiGraph()\n",
    "Gdir.add_edge(0,1)\n",
    "nx.draw_networkx(Gdir)"
   ]
  },
  {
   "cell_type": "markdown",
   "id": "5bbaf723",
   "metadata": {},
   "source": [
    "### Visualize the relationships with the adjacency matrix"
   ]
  },
  {
   "cell_type": "code",
   "execution_count": 5,
   "id": "b8b44ff1",
   "metadata": {},
   "outputs": [],
   "source": [
    "Aud = nx.to_numpy_array(Gud)\n",
    "plt.imshow(Aud,cmap=\"Greys\")\n",
    "plt.xticks(range(2))\n",
    "plt.yticks(range(2))\n",
    "plt.show()"
   ]
  },
  {
   "cell_type": "code",
   "execution_count": 6,
   "id": "ce37bad0",
   "metadata": {},
   "outputs": [],
   "source": [
    "Adir = nx.to_numpy_array(Gdir)\n",
    "plt.imshow(Adir,cmap=\"Greys\")\n",
    "plt.xticks(range(2))\n",
    "plt.yticks(range(2))\n",
    "plt.show()"
   ]
  },
  {
   "cell_type": "markdown",
   "id": "f132c212",
   "metadata": {},
   "source": [
    "### Node and edge attributes "
   ]
  },
  {
   "cell_type": "code",
   "execution_count": 7,
   "id": "05a650ee",
   "metadata": {},
   "outputs": [
    {
     "data": {
      "text/plain": "NodeDataView({0: {'color': 'red'}, 1: {}})"
     },
     "execution_count": 7,
     "metadata": {},
     "output_type": "execute_result"
    }
   ],
   "source": [
    "Gud.nodes[0][\"color\"] = \"red\"\n",
    "Gud.nodes(data=True)"
   ]
  },
  {
   "cell_type": "code",
   "execution_count": 8,
   "id": "b5fe1905",
   "metadata": {},
   "outputs": [
    {
     "data": {
      "text/plain": "NodeDataView({0: {'color': 'red'}, 1: {}, 2: {'color': 'blue'}})"
     },
     "execution_count": 8,
     "metadata": {},
     "output_type": "execute_result"
    }
   ],
   "source": [
    "Gud.add_node(2,color=\"blue\")\n",
    "Gud.nodes(data=True)"
   ]
  },
  {
   "cell_type": "code",
   "execution_count": 9,
   "id": "ad2096d1",
   "metadata": {},
   "outputs": [],
   "source": [
    "nx.draw_networkx(Gud)"
   ]
  },
  {
   "cell_type": "code",
   "execution_count": 10,
   "id": "9b240180",
   "metadata": {},
   "outputs": [
    {
     "data": {
      "text/plain": "EdgeDataView([(0, 1, {'kind': 'family', 'weight': 3})])"
     },
     "execution_count": 10,
     "metadata": {},
     "output_type": "execute_result"
    }
   ],
   "source": [
    "Gud[0][1][\"kind\"] = \"family\"\n",
    "Gud[0][1][\"weight\"] = 3\n",
    "Gud.edges(data=True)"
   ]
  },
  {
   "cell_type": "markdown",
   "id": "ef152ad3",
   "metadata": {},
   "source": [
    "# Building a graph from data"
   ]
  },
  {
   "cell_type": "markdown",
   "id": "aedf93cf",
   "metadata": {},
   "source": [
    "Dataset - **contacts** and **metadata** (Thiers13): https://zenodo.org/record/2540795\n",
    "\n",
    "Description of dataset: http://www.sociopatterns.org/datasets/high-school-contact-and-friendship-networks/\n",
    "\n",
    "Paper: https://journals.plos.org/plosone/article?id=10.1371/journal.pone.0136497\n",
    "\n",
    "Contacts of the students of nine classes during 5 days in Dec. 2013, as measured by the SocioPatterns infrastructure. The file contains a tab-separated list representing the active contacts during 20-second intervals of the data collection. Each line has the form “t i j“, where i and j are the anonymous IDs of the persons in contact and the interval during which this contact was active is [ t – 20s, t ]. If multiple contacts are active in a given interval, you will see multiple lines starting with the same value of t. Time is measured in seconds and expressed in UNIX ctime.\n",
    "\n",
    "Sensors are embedded in unobtrusive wearable badges and exchange ultra-low power radio packets in order to detect close proximity of individuals wearing them. Students were asked to wear the sensors on their chests using lanyards, ensuring that the devices of two individuals can only exchange radio packets when the persons are facing each other. \n",
    "\n",
    "The classes have different specialization: “MP” classes focus more on mathematics and physics, “PC” classes on physics and chemistry, “PSI” classes on engineering studies and “BIO” classes on biology. We collected data among students of nine classes corresponding to the second year of such studies: 3 classes of type “MP” (MP, MPst1, MPst2), two of type “PC” (PC and PCst), one of type “PSI” (PSIst) and 3 of type “BIO” (2BIO1, 2BIO2, 2BIO3). "
   ]
  },
  {
   "cell_type": "markdown",
   "id": "db98aba3",
   "metadata": {},
   "source": [
    "### Load data to dataframes"
   ]
  },
  {
   "cell_type": "code",
   "execution_count": 11,
   "id": "968491a7",
   "metadata": {},
   "outputs": [
    {
     "ename": "FileNotFoundError",
     "evalue": "[Errno 2] No such file or directory: '../Data/contact/tij_Thiers13.dat'",
     "output_type": "error",
     "traceback": [
      "\u001B[0;31m---------------------------------------------------------------------------\u001B[0m",
      "\u001B[0;31mFileNotFoundError\u001B[0m                         Traceback (most recent call last)",
      "\u001B[0;32m/var/folders/m4/prj94mxs4pn6lk9nc4z7vrc80000gn/T/ipykernel_26751/905034681.py\u001B[0m in \u001B[0;36m<module>\u001B[0;34m\u001B[0m\n\u001B[0;32m----> 1\u001B[0;31m \u001B[0mcontact\u001B[0m \u001B[0;34m=\u001B[0m \u001B[0mpd\u001B[0m\u001B[0;34m.\u001B[0m\u001B[0mread_csv\u001B[0m\u001B[0;34m(\u001B[0m\u001B[0;34m\"../Data/contact/tij_Thiers13.dat\"\u001B[0m\u001B[0;34m,\u001B[0m\u001B[0mnames\u001B[0m\u001B[0;34m=\u001B[0m\u001B[0;34m[\u001B[0m\u001B[0;34m't'\u001B[0m\u001B[0;34m,\u001B[0m \u001B[0;34m'n1'\u001B[0m\u001B[0;34m,\u001B[0m \u001B[0;34m'n2'\u001B[0m\u001B[0;34m]\u001B[0m\u001B[0;34m,\u001B[0m\u001B[0mdelimiter\u001B[0m\u001B[0;34m=\u001B[0m\u001B[0;34m\" \"\u001B[0m\u001B[0;34m)\u001B[0m\u001B[0;34m\u001B[0m\u001B[0;34m\u001B[0m\u001B[0m\n\u001B[0m\u001B[1;32m      2\u001B[0m \u001B[0mmetadata\u001B[0m \u001B[0;34m=\u001B[0m \u001B[0mpd\u001B[0m\u001B[0;34m.\u001B[0m\u001B[0mread_csv\u001B[0m\u001B[0;34m(\u001B[0m\u001B[0;34m\"../Data/metadata/metadata_Thiers13.dat\"\u001B[0m\u001B[0;34m,\u001B[0m\u001B[0mnames\u001B[0m\u001B[0;34m=\u001B[0m\u001B[0;34m[\u001B[0m\u001B[0;34m\"n\"\u001B[0m\u001B[0;34m,\u001B[0m\u001B[0;34m\"group\"\u001B[0m\u001B[0;34m]\u001B[0m\u001B[0;34m,\u001B[0m\u001B[0mdelimiter\u001B[0m\u001B[0;34m=\u001B[0m\u001B[0;34m\"\\t\"\u001B[0m\u001B[0;34m)\u001B[0m\u001B[0;34m\u001B[0m\u001B[0;34m\u001B[0m\u001B[0m\n",
      "\u001B[0;32m~/miniforge3/envs/dopp-a2/lib/python3.9/site-packages/pandas/util/_decorators.py\u001B[0m in \u001B[0;36mwrapper\u001B[0;34m(*args, **kwargs)\u001B[0m\n\u001B[1;32m    309\u001B[0m                     \u001B[0mstacklevel\u001B[0m\u001B[0;34m=\u001B[0m\u001B[0mstacklevel\u001B[0m\u001B[0;34m,\u001B[0m\u001B[0;34m\u001B[0m\u001B[0;34m\u001B[0m\u001B[0m\n\u001B[1;32m    310\u001B[0m                 )\n\u001B[0;32m--> 311\u001B[0;31m             \u001B[0;32mreturn\u001B[0m \u001B[0mfunc\u001B[0m\u001B[0;34m(\u001B[0m\u001B[0;34m*\u001B[0m\u001B[0margs\u001B[0m\u001B[0;34m,\u001B[0m \u001B[0;34m**\u001B[0m\u001B[0mkwargs\u001B[0m\u001B[0;34m)\u001B[0m\u001B[0;34m\u001B[0m\u001B[0;34m\u001B[0m\u001B[0m\n\u001B[0m\u001B[1;32m    312\u001B[0m \u001B[0;34m\u001B[0m\u001B[0m\n\u001B[1;32m    313\u001B[0m         \u001B[0;32mreturn\u001B[0m \u001B[0mwrapper\u001B[0m\u001B[0;34m\u001B[0m\u001B[0;34m\u001B[0m\u001B[0m\n",
      "\u001B[0;32m~/miniforge3/envs/dopp-a2/lib/python3.9/site-packages/pandas/io/parsers/readers.py\u001B[0m in \u001B[0;36mread_csv\u001B[0;34m(filepath_or_buffer, sep, delimiter, header, names, index_col, usecols, squeeze, prefix, mangle_dupe_cols, dtype, engine, converters, true_values, false_values, skipinitialspace, skiprows, skipfooter, nrows, na_values, keep_default_na, na_filter, verbose, skip_blank_lines, parse_dates, infer_datetime_format, keep_date_col, date_parser, dayfirst, cache_dates, iterator, chunksize, compression, thousands, decimal, lineterminator, quotechar, quoting, doublequote, escapechar, comment, encoding, encoding_errors, dialect, error_bad_lines, warn_bad_lines, on_bad_lines, delim_whitespace, low_memory, memory_map, float_precision, storage_options)\u001B[0m\n\u001B[1;32m    584\u001B[0m     \u001B[0mkwds\u001B[0m\u001B[0;34m.\u001B[0m\u001B[0mupdate\u001B[0m\u001B[0;34m(\u001B[0m\u001B[0mkwds_defaults\u001B[0m\u001B[0;34m)\u001B[0m\u001B[0;34m\u001B[0m\u001B[0;34m\u001B[0m\u001B[0m\n\u001B[1;32m    585\u001B[0m \u001B[0;34m\u001B[0m\u001B[0m\n\u001B[0;32m--> 586\u001B[0;31m     \u001B[0;32mreturn\u001B[0m \u001B[0m_read\u001B[0m\u001B[0;34m(\u001B[0m\u001B[0mfilepath_or_buffer\u001B[0m\u001B[0;34m,\u001B[0m \u001B[0mkwds\u001B[0m\u001B[0;34m)\u001B[0m\u001B[0;34m\u001B[0m\u001B[0;34m\u001B[0m\u001B[0m\n\u001B[0m\u001B[1;32m    587\u001B[0m \u001B[0;34m\u001B[0m\u001B[0m\n\u001B[1;32m    588\u001B[0m \u001B[0;34m\u001B[0m\u001B[0m\n",
      "\u001B[0;32m~/miniforge3/envs/dopp-a2/lib/python3.9/site-packages/pandas/io/parsers/readers.py\u001B[0m in \u001B[0;36m_read\u001B[0;34m(filepath_or_buffer, kwds)\u001B[0m\n\u001B[1;32m    480\u001B[0m \u001B[0;34m\u001B[0m\u001B[0m\n\u001B[1;32m    481\u001B[0m     \u001B[0;31m# Create the parser.\u001B[0m\u001B[0;34m\u001B[0m\u001B[0;34m\u001B[0m\u001B[0m\n\u001B[0;32m--> 482\u001B[0;31m     \u001B[0mparser\u001B[0m \u001B[0;34m=\u001B[0m \u001B[0mTextFileReader\u001B[0m\u001B[0;34m(\u001B[0m\u001B[0mfilepath_or_buffer\u001B[0m\u001B[0;34m,\u001B[0m \u001B[0;34m**\u001B[0m\u001B[0mkwds\u001B[0m\u001B[0;34m)\u001B[0m\u001B[0;34m\u001B[0m\u001B[0;34m\u001B[0m\u001B[0m\n\u001B[0m\u001B[1;32m    483\u001B[0m \u001B[0;34m\u001B[0m\u001B[0m\n\u001B[1;32m    484\u001B[0m     \u001B[0;32mif\u001B[0m \u001B[0mchunksize\u001B[0m \u001B[0;32mor\u001B[0m \u001B[0miterator\u001B[0m\u001B[0;34m:\u001B[0m\u001B[0;34m\u001B[0m\u001B[0;34m\u001B[0m\u001B[0m\n",
      "\u001B[0;32m~/miniforge3/envs/dopp-a2/lib/python3.9/site-packages/pandas/io/parsers/readers.py\u001B[0m in \u001B[0;36m__init__\u001B[0;34m(self, f, engine, **kwds)\u001B[0m\n\u001B[1;32m    809\u001B[0m             \u001B[0mself\u001B[0m\u001B[0;34m.\u001B[0m\u001B[0moptions\u001B[0m\u001B[0;34m[\u001B[0m\u001B[0;34m\"has_index_names\"\u001B[0m\u001B[0;34m]\u001B[0m \u001B[0;34m=\u001B[0m \u001B[0mkwds\u001B[0m\u001B[0;34m[\u001B[0m\u001B[0;34m\"has_index_names\"\u001B[0m\u001B[0;34m]\u001B[0m\u001B[0;34m\u001B[0m\u001B[0;34m\u001B[0m\u001B[0m\n\u001B[1;32m    810\u001B[0m \u001B[0;34m\u001B[0m\u001B[0m\n\u001B[0;32m--> 811\u001B[0;31m         \u001B[0mself\u001B[0m\u001B[0;34m.\u001B[0m\u001B[0m_engine\u001B[0m \u001B[0;34m=\u001B[0m \u001B[0mself\u001B[0m\u001B[0;34m.\u001B[0m\u001B[0m_make_engine\u001B[0m\u001B[0;34m(\u001B[0m\u001B[0mself\u001B[0m\u001B[0;34m.\u001B[0m\u001B[0mengine\u001B[0m\u001B[0;34m)\u001B[0m\u001B[0;34m\u001B[0m\u001B[0;34m\u001B[0m\u001B[0m\n\u001B[0m\u001B[1;32m    812\u001B[0m \u001B[0;34m\u001B[0m\u001B[0m\n\u001B[1;32m    813\u001B[0m     \u001B[0;32mdef\u001B[0m \u001B[0mclose\u001B[0m\u001B[0;34m(\u001B[0m\u001B[0mself\u001B[0m\u001B[0;34m)\u001B[0m\u001B[0;34m:\u001B[0m\u001B[0;34m\u001B[0m\u001B[0;34m\u001B[0m\u001B[0m\n",
      "\u001B[0;32m~/miniforge3/envs/dopp-a2/lib/python3.9/site-packages/pandas/io/parsers/readers.py\u001B[0m in \u001B[0;36m_make_engine\u001B[0;34m(self, engine)\u001B[0m\n\u001B[1;32m   1038\u001B[0m             )\n\u001B[1;32m   1039\u001B[0m         \u001B[0;31m# error: Too many arguments for \"ParserBase\"\u001B[0m\u001B[0;34m\u001B[0m\u001B[0;34m\u001B[0m\u001B[0m\n\u001B[0;32m-> 1040\u001B[0;31m         \u001B[0;32mreturn\u001B[0m \u001B[0mmapping\u001B[0m\u001B[0;34m[\u001B[0m\u001B[0mengine\u001B[0m\u001B[0;34m]\u001B[0m\u001B[0;34m(\u001B[0m\u001B[0mself\u001B[0m\u001B[0;34m.\u001B[0m\u001B[0mf\u001B[0m\u001B[0;34m,\u001B[0m \u001B[0;34m**\u001B[0m\u001B[0mself\u001B[0m\u001B[0;34m.\u001B[0m\u001B[0moptions\u001B[0m\u001B[0;34m)\u001B[0m  \u001B[0;31m# type: ignore[call-arg]\u001B[0m\u001B[0;34m\u001B[0m\u001B[0;34m\u001B[0m\u001B[0m\n\u001B[0m\u001B[1;32m   1041\u001B[0m \u001B[0;34m\u001B[0m\u001B[0m\n\u001B[1;32m   1042\u001B[0m     \u001B[0;32mdef\u001B[0m \u001B[0m_failover_to_python\u001B[0m\u001B[0;34m(\u001B[0m\u001B[0mself\u001B[0m\u001B[0;34m)\u001B[0m\u001B[0;34m:\u001B[0m\u001B[0;34m\u001B[0m\u001B[0;34m\u001B[0m\u001B[0m\n",
      "\u001B[0;32m~/miniforge3/envs/dopp-a2/lib/python3.9/site-packages/pandas/io/parsers/c_parser_wrapper.py\u001B[0m in \u001B[0;36m__init__\u001B[0;34m(self, src, **kwds)\u001B[0m\n\u001B[1;32m     49\u001B[0m \u001B[0;34m\u001B[0m\u001B[0m\n\u001B[1;32m     50\u001B[0m         \u001B[0;31m# open handles\u001B[0m\u001B[0;34m\u001B[0m\u001B[0;34m\u001B[0m\u001B[0m\n\u001B[0;32m---> 51\u001B[0;31m         \u001B[0mself\u001B[0m\u001B[0;34m.\u001B[0m\u001B[0m_open_handles\u001B[0m\u001B[0;34m(\u001B[0m\u001B[0msrc\u001B[0m\u001B[0;34m,\u001B[0m \u001B[0mkwds\u001B[0m\u001B[0;34m)\u001B[0m\u001B[0;34m\u001B[0m\u001B[0;34m\u001B[0m\u001B[0m\n\u001B[0m\u001B[1;32m     52\u001B[0m         \u001B[0;32massert\u001B[0m \u001B[0mself\u001B[0m\u001B[0;34m.\u001B[0m\u001B[0mhandles\u001B[0m \u001B[0;32mis\u001B[0m \u001B[0;32mnot\u001B[0m \u001B[0;32mNone\u001B[0m\u001B[0;34m\u001B[0m\u001B[0;34m\u001B[0m\u001B[0m\n\u001B[1;32m     53\u001B[0m \u001B[0;34m\u001B[0m\u001B[0m\n",
      "\u001B[0;32m~/miniforge3/envs/dopp-a2/lib/python3.9/site-packages/pandas/io/parsers/base_parser.py\u001B[0m in \u001B[0;36m_open_handles\u001B[0;34m(self, src, kwds)\u001B[0m\n\u001B[1;32m    220\u001B[0m         \u001B[0mLet\u001B[0m \u001B[0mthe\u001B[0m \u001B[0mreaders\u001B[0m \u001B[0mopen\u001B[0m \u001B[0mIOHandles\u001B[0m \u001B[0mafter\u001B[0m \u001B[0mthey\u001B[0m \u001B[0mare\u001B[0m \u001B[0mdone\u001B[0m \u001B[0;32mwith\u001B[0m \u001B[0mtheir\u001B[0m \u001B[0mpotential\u001B[0m \u001B[0mraises\u001B[0m\u001B[0;34m.\u001B[0m\u001B[0;34m\u001B[0m\u001B[0;34m\u001B[0m\u001B[0m\n\u001B[1;32m    221\u001B[0m         \"\"\"\n\u001B[0;32m--> 222\u001B[0;31m         self.handles = get_handle(\n\u001B[0m\u001B[1;32m    223\u001B[0m             \u001B[0msrc\u001B[0m\u001B[0;34m,\u001B[0m\u001B[0;34m\u001B[0m\u001B[0;34m\u001B[0m\u001B[0m\n\u001B[1;32m    224\u001B[0m             \u001B[0;34m\"r\"\u001B[0m\u001B[0;34m,\u001B[0m\u001B[0;34m\u001B[0m\u001B[0;34m\u001B[0m\u001B[0m\n",
      "\u001B[0;32m~/miniforge3/envs/dopp-a2/lib/python3.9/site-packages/pandas/io/common.py\u001B[0m in \u001B[0;36mget_handle\u001B[0;34m(path_or_buf, mode, encoding, compression, memory_map, is_text, errors, storage_options)\u001B[0m\n\u001B[1;32m    700\u001B[0m         \u001B[0;32mif\u001B[0m \u001B[0mioargs\u001B[0m\u001B[0;34m.\u001B[0m\u001B[0mencoding\u001B[0m \u001B[0;32mand\u001B[0m \u001B[0;34m\"b\"\u001B[0m \u001B[0;32mnot\u001B[0m \u001B[0;32min\u001B[0m \u001B[0mioargs\u001B[0m\u001B[0;34m.\u001B[0m\u001B[0mmode\u001B[0m\u001B[0;34m:\u001B[0m\u001B[0;34m\u001B[0m\u001B[0;34m\u001B[0m\u001B[0m\n\u001B[1;32m    701\u001B[0m             \u001B[0;31m# Encoding\u001B[0m\u001B[0;34m\u001B[0m\u001B[0;34m\u001B[0m\u001B[0m\n\u001B[0;32m--> 702\u001B[0;31m             handle = open(\n\u001B[0m\u001B[1;32m    703\u001B[0m                 \u001B[0mhandle\u001B[0m\u001B[0;34m,\u001B[0m\u001B[0;34m\u001B[0m\u001B[0;34m\u001B[0m\u001B[0m\n\u001B[1;32m    704\u001B[0m                 \u001B[0mioargs\u001B[0m\u001B[0;34m.\u001B[0m\u001B[0mmode\u001B[0m\u001B[0;34m,\u001B[0m\u001B[0;34m\u001B[0m\u001B[0;34m\u001B[0m\u001B[0m\n",
      "\u001B[0;31mFileNotFoundError\u001B[0m: [Errno 2] No such file or directory: '../Data/contact/tij_Thiers13.dat'"
     ]
    }
   ],
   "source": [
    "contact = pd.read_csv(\"../Data/contact/tij_Thiers13.dat\",names=['t', 'n1', 'n2'],delimiter=\" \")\n",
    "metadata = pd.read_csv(\"../Data/metadata/metadata_Thiers13.dat\",names=[\"n\",\"group\"],delimiter=\"\\t\")"
   ]
  },
  {
   "cell_type": "code",
   "execution_count": 12,
   "id": "ed0d6290",
   "metadata": {},
   "outputs": [
    {
     "ename": "NameError",
     "evalue": "name 'metadata' is not defined",
     "output_type": "error",
     "traceback": [
      "\u001B[0;31m---------------------------------------------------------------------------\u001B[0m",
      "\u001B[0;31mNameError\u001B[0m                                 Traceback (most recent call last)",
      "\u001B[0;32m/var/folders/m4/prj94mxs4pn6lk9nc4z7vrc80000gn/T/ipykernel_26751/1524040151.py\u001B[0m in \u001B[0;36m<module>\u001B[0;34m\u001B[0m\n\u001B[0;32m----> 1\u001B[0;31m \u001B[0mmetadata\u001B[0m\u001B[0;34m.\u001B[0m\u001B[0mhead\u001B[0m\u001B[0;34m(\u001B[0m\u001B[0;34m)\u001B[0m\u001B[0;34m\u001B[0m\u001B[0;34m\u001B[0m\u001B[0m\n\u001B[0m",
      "\u001B[0;31mNameError\u001B[0m: name 'metadata' is not defined"
     ]
    }
   ],
   "source": [
    "metadata.head()"
   ]
  },
  {
   "cell_type": "code",
   "execution_count": 13,
   "id": "f27d77d7",
   "metadata": {},
   "outputs": [
    {
     "ename": "NameError",
     "evalue": "name 'metadata' is not defined",
     "output_type": "error",
     "traceback": [
      "\u001B[0;31m---------------------------------------------------------------------------\u001B[0m",
      "\u001B[0;31mNameError\u001B[0m                                 Traceback (most recent call last)",
      "\u001B[0;32m/var/folders/m4/prj94mxs4pn6lk9nc4z7vrc80000gn/T/ipykernel_26751/2705738284.py\u001B[0m in \u001B[0;36m<module>\u001B[0;34m\u001B[0m\n\u001B[0;32m----> 1\u001B[0;31m \u001B[0mclasses\u001B[0m \u001B[0;34m=\u001B[0m \u001B[0mmetadata\u001B[0m\u001B[0;34m[\u001B[0m\u001B[0;34m'group'\u001B[0m\u001B[0;34m]\u001B[0m\u001B[0;34m.\u001B[0m\u001B[0munique\u001B[0m\u001B[0;34m(\u001B[0m\u001B[0;34m)\u001B[0m\u001B[0;34m\u001B[0m\u001B[0;34m\u001B[0m\u001B[0m\n\u001B[0m\u001B[1;32m      2\u001B[0m \u001B[0mprint\u001B[0m\u001B[0;34m(\u001B[0m\u001B[0mclasses\u001B[0m\u001B[0;34m)\u001B[0m\u001B[0;34m\u001B[0m\u001B[0;34m\u001B[0m\u001B[0m\n\u001B[1;32m      3\u001B[0m \u001B[0mclass_to_int\u001B[0m \u001B[0;34m=\u001B[0m \u001B[0;34m{\u001B[0m\u001B[0mci\u001B[0m\u001B[0;34m:\u001B[0m\u001B[0mi\u001B[0m \u001B[0;32mfor\u001B[0m \u001B[0mi\u001B[0m\u001B[0;34m,\u001B[0m\u001B[0mci\u001B[0m \u001B[0;32min\u001B[0m \u001B[0menumerate\u001B[0m\u001B[0;34m(\u001B[0m\u001B[0mclasses\u001B[0m\u001B[0;34m)\u001B[0m\u001B[0;34m}\u001B[0m\u001B[0;34m\u001B[0m\u001B[0;34m\u001B[0m\u001B[0m\n\u001B[1;32m      4\u001B[0m \u001B[0mclass_to_int\u001B[0m\u001B[0;34m\u001B[0m\u001B[0;34m\u001B[0m\u001B[0m\n",
      "\u001B[0;31mNameError\u001B[0m: name 'metadata' is not defined"
     ]
    }
   ],
   "source": [
    "classes = metadata['group'].unique()\n",
    "print(classes)\n",
    "class_to_int = {ci:i for i,ci in enumerate(classes)}\n",
    "class_to_int"
   ]
  },
  {
   "cell_type": "code",
   "execution_count": 14,
   "id": "4eae814d",
   "metadata": {},
   "outputs": [
    {
     "ename": "NameError",
     "evalue": "name 'contact' is not defined",
     "output_type": "error",
     "traceback": [
      "\u001B[0;31m---------------------------------------------------------------------------\u001B[0m",
      "\u001B[0;31mNameError\u001B[0m                                 Traceback (most recent call last)",
      "\u001B[0;32m/var/folders/m4/prj94mxs4pn6lk9nc4z7vrc80000gn/T/ipykernel_26751/424903369.py\u001B[0m in \u001B[0;36m<module>\u001B[0;34m\u001B[0m\n\u001B[0;32m----> 1\u001B[0;31m \u001B[0mcontact\u001B[0m\u001B[0;34m.\u001B[0m\u001B[0mhead\u001B[0m\u001B[0;34m(\u001B[0m\u001B[0;34m)\u001B[0m\u001B[0;34m\u001B[0m\u001B[0;34m\u001B[0m\u001B[0m\n\u001B[0m",
      "\u001B[0;31mNameError\u001B[0m: name 'contact' is not defined"
     ]
    }
   ],
   "source": [
    "contact.head()"
   ]
  },
  {
   "cell_type": "code",
   "execution_count": 15,
   "id": "3ff8b197",
   "metadata": {},
   "outputs": [
    {
     "ename": "NameError",
     "evalue": "name 'contact' is not defined",
     "output_type": "error",
     "traceback": [
      "\u001B[0;31m---------------------------------------------------------------------------\u001B[0m",
      "\u001B[0;31mNameError\u001B[0m                                 Traceback (most recent call last)",
      "\u001B[0;32m/var/folders/m4/prj94mxs4pn6lk9nc4z7vrc80000gn/T/ipykernel_26751/4246984893.py\u001B[0m in \u001B[0;36m<module>\u001B[0;34m\u001B[0m\n\u001B[1;32m      1\u001B[0m \u001B[0;31m## There are repeated interactions!\u001B[0m\u001B[0;34m\u001B[0m\u001B[0;34m\u001B[0m\u001B[0m\n\u001B[0;32m----> 2\u001B[0;31m \u001B[0mcontact\u001B[0m\u001B[0;34m.\u001B[0m\u001B[0mloc\u001B[0m\u001B[0;34m[\u001B[0m\u001B[0;34m(\u001B[0m\u001B[0mcontact\u001B[0m\u001B[0;34m[\u001B[0m\u001B[0;34m\"n1\"\u001B[0m\u001B[0;34m]\u001B[0m\u001B[0;34m==\u001B[0m\u001B[0;36m454\u001B[0m\u001B[0;34m)\u001B[0m \u001B[0;34m&\u001B[0m \u001B[0;34m(\u001B[0m\u001B[0mcontact\u001B[0m\u001B[0;34m[\u001B[0m\u001B[0;34m\"n2\"\u001B[0m\u001B[0;34m]\u001B[0m\u001B[0;34m==\u001B[0m\u001B[0;36m640\u001B[0m\u001B[0;34m)\u001B[0m\u001B[0;34m]\u001B[0m\u001B[0;34m\u001B[0m\u001B[0;34m\u001B[0m\u001B[0m\n\u001B[0m",
      "\u001B[0;31mNameError\u001B[0m: name 'contact' is not defined"
     ]
    }
   ],
   "source": [
    "## There are repeated interactions!\n",
    "contact.loc[(contact[\"n1\"]==454) & (contact[\"n2\"]==640)]"
   ]
  },
  {
   "cell_type": "code",
   "execution_count": 16,
   "id": "be1d44d4",
   "metadata": {},
   "outputs": [
    {
     "ename": "NameError",
     "evalue": "name 'contact' is not defined",
     "output_type": "error",
     "traceback": [
      "\u001B[0;31m---------------------------------------------------------------------------\u001B[0m",
      "\u001B[0;31mNameError\u001B[0m                                 Traceback (most recent call last)",
      "\u001B[0;32m/var/folders/m4/prj94mxs4pn6lk9nc4z7vrc80000gn/T/ipykernel_26751/478440026.py\u001B[0m in \u001B[0;36m<module>\u001B[0;34m\u001B[0m\n\u001B[0;32m----> 1\u001B[0;31m \u001B[0mlen\u001B[0m\u001B[0;34m(\u001B[0m\u001B[0mcontact\u001B[0m\u001B[0;34m.\u001B[0m\u001B[0mloc\u001B[0m\u001B[0;34m[\u001B[0m\u001B[0;34m(\u001B[0m\u001B[0mcontact\u001B[0m\u001B[0;34m[\u001B[0m\u001B[0;34m\"n1\"\u001B[0m\u001B[0;34m]\u001B[0m\u001B[0;34m==\u001B[0m\u001B[0;36m454\u001B[0m\u001B[0;34m)\u001B[0m \u001B[0;34m&\u001B[0m \u001B[0;34m(\u001B[0m\u001B[0mcontact\u001B[0m\u001B[0;34m[\u001B[0m\u001B[0;34m\"n2\"\u001B[0m\u001B[0;34m]\u001B[0m\u001B[0;34m==\u001B[0m\u001B[0;36m640\u001B[0m\u001B[0;34m)\u001B[0m\u001B[0;34m]\u001B[0m\u001B[0;34m)\u001B[0m\u001B[0;34m\u001B[0m\u001B[0;34m\u001B[0m\u001B[0m\n\u001B[0m",
      "\u001B[0;31mNameError\u001B[0m: name 'contact' is not defined"
     ]
    }
   ],
   "source": [
    "len(contact.loc[(contact[\"n1\"]==454) & (contact[\"n2\"]==640)])"
   ]
  },
  {
   "cell_type": "markdown",
   "id": "a12e625e",
   "metadata": {},
   "source": [
    "### Aggregate number of interactions"
   ]
  },
  {
   "cell_type": "code",
   "execution_count": 17,
   "id": "8e45b168",
   "metadata": {},
   "outputs": [
    {
     "ename": "NameError",
     "evalue": "name 'contact' is not defined",
     "output_type": "error",
     "traceback": [
      "\u001B[0;31m---------------------------------------------------------------------------\u001B[0m",
      "\u001B[0;31mNameError\u001B[0m                                 Traceback (most recent call last)",
      "\u001B[0;32m/var/folders/m4/prj94mxs4pn6lk9nc4z7vrc80000gn/T/ipykernel_26751/3412522440.py\u001B[0m in \u001B[0;36m<module>\u001B[0;34m\u001B[0m\n\u001B[1;32m      1\u001B[0m \u001B[0;31m## Aggregate contacts\u001B[0m\u001B[0;34m\u001B[0m\u001B[0;34m\u001B[0m\u001B[0m\n\u001B[1;32m      2\u001B[0m \u001B[0;31m## https://stackoverflow.com/questions/38933071/group-by-two-columns-and-count-the-occurrences-of-each-combination-in-pandas\u001B[0m\u001B[0;34m\u001B[0m\u001B[0;34m\u001B[0m\u001B[0m\n\u001B[0;32m----> 3\u001B[0;31m \u001B[0mcount_series\u001B[0m \u001B[0;34m=\u001B[0m \u001B[0mcontact\u001B[0m\u001B[0;34m.\u001B[0m\u001B[0mgroupby\u001B[0m\u001B[0;34m(\u001B[0m\u001B[0;34m[\u001B[0m\u001B[0;34m'n1'\u001B[0m\u001B[0;34m,\u001B[0m \u001B[0;34m'n2'\u001B[0m\u001B[0;34m]\u001B[0m\u001B[0;34m)\u001B[0m\u001B[0;34m.\u001B[0m\u001B[0msize\u001B[0m\u001B[0;34m(\u001B[0m\u001B[0;34m)\u001B[0m\u001B[0;34m\u001B[0m\u001B[0;34m\u001B[0m\u001B[0m\n\u001B[0m\u001B[1;32m      4\u001B[0m \u001B[0mcontact_aggr\u001B[0m \u001B[0;34m=\u001B[0m \u001B[0mcount_series\u001B[0m\u001B[0;34m.\u001B[0m\u001B[0mto_frame\u001B[0m\u001B[0;34m(\u001B[0m\u001B[0mname\u001B[0m \u001B[0;34m=\u001B[0m \u001B[0;34m'interactions'\u001B[0m\u001B[0;34m)\u001B[0m\u001B[0;34m.\u001B[0m\u001B[0mreset_index\u001B[0m\u001B[0;34m(\u001B[0m\u001B[0;34m)\u001B[0m\u001B[0;34m\u001B[0m\u001B[0;34m\u001B[0m\u001B[0m\n\u001B[1;32m      5\u001B[0m \u001B[0mcontact_aggr\u001B[0m\u001B[0;34m.\u001B[0m\u001B[0mhead\u001B[0m\u001B[0;34m(\u001B[0m\u001B[0;34m)\u001B[0m\u001B[0;34m\u001B[0m\u001B[0;34m\u001B[0m\u001B[0m\n",
      "\u001B[0;31mNameError\u001B[0m: name 'contact' is not defined"
     ]
    }
   ],
   "source": [
    "## Aggregate contacts\n",
    "## https://stackoverflow.com/questions/38933071/group-by-two-columns-and-count-the-occurrences-of-each-combination-in-pandas\n",
    "count_series = contact.groupby(['n1', 'n2']).size()\n",
    "contact_aggr = count_series.to_frame(name = 'interactions').reset_index()\n",
    "contact_aggr.head()"
   ]
  },
  {
   "cell_type": "code",
   "execution_count": 18,
   "id": "60411d48",
   "metadata": {},
   "outputs": [
    {
     "ename": "NameError",
     "evalue": "name 'contact_aggr' is not defined",
     "output_type": "error",
     "traceback": [
      "\u001B[0;31m---------------------------------------------------------------------------\u001B[0m",
      "\u001B[0;31mNameError\u001B[0m                                 Traceback (most recent call last)",
      "\u001B[0;32m/var/folders/m4/prj94mxs4pn6lk9nc4z7vrc80000gn/T/ipykernel_26751/1686878624.py\u001B[0m in \u001B[0;36m<module>\u001B[0;34m\u001B[0m\n\u001B[0;32m----> 1\u001B[0;31m \u001B[0mcontact_aggr\u001B[0m\u001B[0;34m.\u001B[0m\u001B[0mloc\u001B[0m\u001B[0;34m[\u001B[0m\u001B[0;34m(\u001B[0m\u001B[0mcontact_aggr\u001B[0m\u001B[0;34m[\u001B[0m\u001B[0;34m\"n1\"\u001B[0m\u001B[0;34m]\u001B[0m\u001B[0;34m==\u001B[0m\u001B[0;36m454\u001B[0m\u001B[0;34m)\u001B[0m \u001B[0;34m&\u001B[0m \u001B[0;34m(\u001B[0m\u001B[0mcontact_aggr\u001B[0m\u001B[0;34m[\u001B[0m\u001B[0;34m\"n2\"\u001B[0m\u001B[0;34m]\u001B[0m\u001B[0;34m==\u001B[0m\u001B[0;36m640\u001B[0m\u001B[0;34m)\u001B[0m\u001B[0;34m]\u001B[0m\u001B[0;34m\u001B[0m\u001B[0;34m\u001B[0m\u001B[0m\n\u001B[0m",
      "\u001B[0;31mNameError\u001B[0m: name 'contact_aggr' is not defined"
     ]
    }
   ],
   "source": [
    "contact_aggr.loc[(contact_aggr[\"n1\"]==454) & (contact_aggr[\"n2\"]==640)]"
   ]
  },
  {
   "cell_type": "code",
   "execution_count": 19,
   "id": "dbe651e5",
   "metadata": {},
   "outputs": [
    {
     "ename": "NameError",
     "evalue": "name 'contact_aggr' is not defined",
     "output_type": "error",
     "traceback": [
      "\u001B[0;31m---------------------------------------------------------------------------\u001B[0m",
      "\u001B[0;31mNameError\u001B[0m                                 Traceback (most recent call last)",
      "\u001B[0;32m/var/folders/m4/prj94mxs4pn6lk9nc4z7vrc80000gn/T/ipykernel_26751/529444814.py\u001B[0m in \u001B[0;36m<module>\u001B[0;34m\u001B[0m\n\u001B[0;32m----> 1\u001B[0;31m \u001B[0mcontact_aggr\u001B[0m\u001B[0;34m[\u001B[0m\u001B[0;34m\"interactions_inv\"\u001B[0m\u001B[0;34m]\u001B[0m \u001B[0;34m=\u001B[0m \u001B[0mcontact_aggr\u001B[0m\u001B[0;34m[\u001B[0m\u001B[0;34m\"interactions\"\u001B[0m\u001B[0;34m]\u001B[0m\u001B[0;34m.\u001B[0m\u001B[0mmap\u001B[0m\u001B[0;34m(\u001B[0m\u001B[0;32mlambda\u001B[0m \u001B[0mx\u001B[0m\u001B[0;34m:\u001B[0m \u001B[0;36m1\u001B[0m\u001B[0;34m/\u001B[0m\u001B[0mx\u001B[0m\u001B[0;34m)\u001B[0m\u001B[0;34m\u001B[0m\u001B[0;34m\u001B[0m\u001B[0m\n\u001B[0m\u001B[1;32m      2\u001B[0m \u001B[0mcontact_aggr\u001B[0m\u001B[0;34m.\u001B[0m\u001B[0mhead\u001B[0m\u001B[0;34m(\u001B[0m\u001B[0;34m)\u001B[0m\u001B[0;34m\u001B[0m\u001B[0;34m\u001B[0m\u001B[0m\n",
      "\u001B[0;31mNameError\u001B[0m: name 'contact_aggr' is not defined"
     ]
    }
   ],
   "source": [
    "contact_aggr[\"interactions_inv\"] = contact_aggr[\"interactions\"].map(lambda x: 1/x)\n",
    "contact_aggr.head()"
   ]
  },
  {
   "cell_type": "markdown",
   "id": "c9ea6e3b",
   "metadata": {},
   "source": [
    "### Distribution of number of interactions"
   ]
  },
  {
   "cell_type": "code",
   "execution_count": 20,
   "id": "d5bec56c",
   "metadata": {},
   "outputs": [
    {
     "ename": "NameError",
     "evalue": "name 'contact_aggr' is not defined",
     "output_type": "error",
     "traceback": [
      "\u001B[0;31m---------------------------------------------------------------------------\u001B[0m",
      "\u001B[0;31mNameError\u001B[0m                                 Traceback (most recent call last)",
      "\u001B[0;32m/var/folders/m4/prj94mxs4pn6lk9nc4z7vrc80000gn/T/ipykernel_26751/1866130852.py\u001B[0m in \u001B[0;36m<module>\u001B[0;34m\u001B[0m\n\u001B[1;32m      1\u001B[0m \u001B[0;31m## \"Default\" method\u001B[0m\u001B[0;34m\u001B[0m\u001B[0;34m\u001B[0m\u001B[0m\n\u001B[0;32m----> 2\u001B[0;31m \u001B[0mcontact_aggr\u001B[0m\u001B[0;34m[\u001B[0m\u001B[0;34m\"interactions\"\u001B[0m\u001B[0;34m]\u001B[0m\u001B[0;34m.\u001B[0m\u001B[0mhist\u001B[0m\u001B[0;34m(\u001B[0m\u001B[0mbins\u001B[0m\u001B[0;34m=\u001B[0m\u001B[0;36m20\u001B[0m\u001B[0;34m)\u001B[0m\u001B[0;34m\u001B[0m\u001B[0;34m\u001B[0m\u001B[0m\n\u001B[0m\u001B[1;32m      3\u001B[0m \u001B[0mplt\u001B[0m\u001B[0;34m.\u001B[0m\u001B[0mxlabel\u001B[0m\u001B[0;34m(\u001B[0m\u001B[0;34m\"Interactions\"\u001B[0m\u001B[0;34m)\u001B[0m\u001B[0;34m\u001B[0m\u001B[0;34m\u001B[0m\u001B[0m\n\u001B[1;32m      4\u001B[0m \u001B[0mplt\u001B[0m\u001B[0;34m.\u001B[0m\u001B[0mylabel\u001B[0m\u001B[0;34m(\u001B[0m\u001B[0;34m\"Frequency\"\u001B[0m\u001B[0;34m)\u001B[0m\u001B[0;34m\u001B[0m\u001B[0;34m\u001B[0m\u001B[0m\n\u001B[1;32m      5\u001B[0m \u001B[0mplt\u001B[0m\u001B[0;34m.\u001B[0m\u001B[0mgca\u001B[0m\u001B[0;34m(\u001B[0m\u001B[0;34m)\u001B[0m\u001B[0;34m.\u001B[0m\u001B[0mgrid\u001B[0m\u001B[0;34m(\u001B[0m\u001B[0;32mFalse\u001B[0m\u001B[0;34m)\u001B[0m\u001B[0;34m\u001B[0m\u001B[0;34m\u001B[0m\u001B[0m\n",
      "\u001B[0;31mNameError\u001B[0m: name 'contact_aggr' is not defined"
     ]
    }
   ],
   "source": [
    "## \"Default\" method\n",
    "contact_aggr[\"interactions\"].hist(bins=20)\n",
    "plt.xlabel(\"Interactions\")\n",
    "plt.ylabel(\"Frequency\")\n",
    "plt.gca().grid(False)\n",
    "plt.show()"
   ]
  },
  {
   "cell_type": "code",
   "execution_count": 21,
   "id": "0d71243b",
   "metadata": {},
   "outputs": [
    {
     "ename": "NameError",
     "evalue": "name 'contact_aggr' is not defined",
     "output_type": "error",
     "traceback": [
      "\u001B[0;31m---------------------------------------------------------------------------\u001B[0m",
      "\u001B[0;31mNameError\u001B[0m                                 Traceback (most recent call last)",
      "\u001B[0;32m/var/folders/m4/prj94mxs4pn6lk9nc4z7vrc80000gn/T/ipykernel_26751/1846816888.py\u001B[0m in \u001B[0;36m<module>\u001B[0;34m\u001B[0m\n\u001B[1;32m      1\u001B[0m \u001B[0;31m## Method for heterogeneous distributions (power laws)\u001B[0m\u001B[0;34m\u001B[0m\u001B[0;34m\u001B[0m\u001B[0m\n\u001B[0;32m----> 2\u001B[0;31m \u001B[0mintearctions_cntr\u001B[0m \u001B[0;34m=\u001B[0m \u001B[0mCounter\u001B[0m\u001B[0;34m(\u001B[0m\u001B[0mcontact_aggr\u001B[0m\u001B[0;34m[\u001B[0m\u001B[0;34m\"interactions\"\u001B[0m\u001B[0;34m]\u001B[0m\u001B[0;34m)\u001B[0m\u001B[0;34m\u001B[0m\u001B[0;34m\u001B[0m\u001B[0m\n\u001B[0m\u001B[1;32m      3\u001B[0m \u001B[0minteractions_xy\u001B[0m \u001B[0;34m=\u001B[0m \u001B[0mdict\u001B[0m\u001B[0;34m(\u001B[0m\u001B[0mintearctions_cntr\u001B[0m\u001B[0;34m)\u001B[0m\u001B[0;34m.\u001B[0m\u001B[0mitems\u001B[0m\u001B[0;34m(\u001B[0m\u001B[0;34m)\u001B[0m\u001B[0;34m\u001B[0m\u001B[0;34m\u001B[0m\u001B[0m\n\u001B[1;32m      4\u001B[0m \u001B[0mx\u001B[0m\u001B[0;34m,\u001B[0m \u001B[0my\u001B[0m \u001B[0;34m=\u001B[0m \u001B[0mzip\u001B[0m\u001B[0;34m(\u001B[0m\u001B[0;34m*\u001B[0m\u001B[0minteractions_xy\u001B[0m\u001B[0;34m)\u001B[0m\u001B[0;34m\u001B[0m\u001B[0;34m\u001B[0m\u001B[0m\n\u001B[1;32m      5\u001B[0m \u001B[0mplt\u001B[0m\u001B[0;34m.\u001B[0m\u001B[0mloglog\u001B[0m\u001B[0;34m(\u001B[0m\u001B[0mx\u001B[0m\u001B[0;34m,\u001B[0m\u001B[0my\u001B[0m\u001B[0;34m,\u001B[0m\u001B[0;34m\"o\"\u001B[0m\u001B[0;34m)\u001B[0m\u001B[0;34m\u001B[0m\u001B[0;34m\u001B[0m\u001B[0m\n",
      "\u001B[0;31mNameError\u001B[0m: name 'contact_aggr' is not defined"
     ]
    }
   ],
   "source": [
    "## Method for heterogeneous distributions (power laws)\n",
    "intearctions_cntr = Counter(contact_aggr[\"interactions\"])\n",
    "interactions_xy = dict(intearctions_cntr).items()\n",
    "x, y = zip(*interactions_xy)\n",
    "plt.loglog(x,y,\"o\")\n",
    "plt.xlabel(\"Interactions\")\n",
    "plt.ylabel(\"Frequency\")\n",
    "plt.show()"
   ]
  },
  {
   "cell_type": "markdown",
   "id": "794675ab",
   "metadata": {},
   "source": [
    "### Build the network"
   ]
  },
  {
   "cell_type": "code",
   "execution_count": 22,
   "id": "cd5bd402",
   "metadata": {},
   "outputs": [],
   "source": [
    "## This is not useful for lists of undirected networks with repeated edge\n",
    "## (some edges may appear as a,b and also as b,a)\n",
    "## G = nx.from_pandas_edgelist(contact_aggr, \"n1\", \"n2\", edge_attr=[\"interactions\",\"interactions_inv\"], create_using=nx.Graph())"
   ]
  },
  {
   "cell_type": "code",
   "execution_count": 23,
   "id": "d6b156b9",
   "metadata": {},
   "outputs": [
    {
     "ename": "NameError",
     "evalue": "name 'contact_aggr' is not defined",
     "output_type": "error",
     "traceback": [
      "\u001B[0;31m---------------------------------------------------------------------------\u001B[0m",
      "\u001B[0;31mNameError\u001B[0m                                 Traceback (most recent call last)",
      "\u001B[0;32m/var/folders/m4/prj94mxs4pn6lk9nc4z7vrc80000gn/T/ipykernel_26751/788197393.py\u001B[0m in \u001B[0;36m<module>\u001B[0;34m\u001B[0m\n\u001B[1;32m      1\u001B[0m \u001B[0;31m## Create undirected network\u001B[0m\u001B[0;34m\u001B[0m\u001B[0;34m\u001B[0m\u001B[0m\n\u001B[1;32m      2\u001B[0m \u001B[0mG\u001B[0m \u001B[0;34m=\u001B[0m \u001B[0mnx\u001B[0m\u001B[0;34m.\u001B[0m\u001B[0mGraph\u001B[0m\u001B[0;34m(\u001B[0m\u001B[0;34m)\u001B[0m\u001B[0;34m\u001B[0m\u001B[0;34m\u001B[0m\u001B[0m\n\u001B[0;32m----> 3\u001B[0;31m \u001B[0;32mfor\u001B[0m \u001B[0mind\u001B[0m\u001B[0;34m,\u001B[0m \u001B[0mrow\u001B[0m \u001B[0;32min\u001B[0m \u001B[0mcontact_aggr\u001B[0m\u001B[0;34m.\u001B[0m\u001B[0miterrows\u001B[0m\u001B[0;34m(\u001B[0m\u001B[0;34m)\u001B[0m\u001B[0;34m:\u001B[0m\u001B[0;34m\u001B[0m\u001B[0;34m\u001B[0m\u001B[0m\n\u001B[0m\u001B[1;32m      4\u001B[0m     \u001B[0mn1\u001B[0m \u001B[0;34m=\u001B[0m \u001B[0mint\u001B[0m\u001B[0;34m(\u001B[0m\u001B[0mrow\u001B[0m\u001B[0;34m[\u001B[0m\u001B[0;34m\"n1\"\u001B[0m\u001B[0;34m]\u001B[0m\u001B[0;34m)\u001B[0m\u001B[0;34m\u001B[0m\u001B[0;34m\u001B[0m\u001B[0m\n\u001B[1;32m      5\u001B[0m     \u001B[0mn2\u001B[0m \u001B[0;34m=\u001B[0m \u001B[0mint\u001B[0m\u001B[0;34m(\u001B[0m\u001B[0mrow\u001B[0m\u001B[0;34m[\u001B[0m\u001B[0;34m\"n2\"\u001B[0m\u001B[0;34m]\u001B[0m\u001B[0;34m)\u001B[0m\u001B[0;34m\u001B[0m\u001B[0;34m\u001B[0m\u001B[0m\n",
      "\u001B[0;31mNameError\u001B[0m: name 'contact_aggr' is not defined"
     ]
    }
   ],
   "source": [
    "## Create undirected network\n",
    "G = nx.Graph()\n",
    "for ind, row in contact_aggr.iterrows():\n",
    "    n1 = int(row[\"n1\"])\n",
    "    n2 = int(row[\"n2\"])\n",
    "    if not G.has_node(n1):\n",
    "        group = metadata.loc[metadata['n'] == n1][\"group\"].values[0]\n",
    "        G.add_node(n1,group=group)\n",
    "    if not G.has_node(n2):\n",
    "        group = metadata.loc[metadata['n'] == n2][\"group\"].values[0]\n",
    "        G.add_node(n2,group=group)\n",
    "    intr = row[\"interactions\"]\n",
    "    intr_inv = row[\"interactions_inv\"]\n",
    "    if G.has_edge(n1,n2):\n",
    "        G[n1][n2][\"interactions\"] += intr\n",
    "        G[n1][n2][\"interactions_inv\"] = 1/G[n1][n2][\"interactions\"]\n",
    "    else:\n",
    "        G.add_edge(n1,n2,interactions=intr,interactions_inv=intr_inv)"
   ]
  },
  {
   "cell_type": "markdown",
   "id": "fc6af279",
   "metadata": {},
   "source": [
    "### Draw the network"
   ]
  },
  {
   "cell_type": "code",
   "execution_count": null,
   "id": "2a4f3ae2",
   "metadata": {},
   "outputs": [],
   "source": [
    "## Compute a layout\n",
    "pos = nx.kamada_kawai_layout(G,\n",
    "                            weight=\"interactions\",\n",
    "                            scale=1)"
   ]
  },
  {
   "cell_type": "code",
   "execution_count": null,
   "id": "1e059422",
   "metadata": {},
   "outputs": [],
   "source": [
    "## Fix a node ordering\n",
    "nodelist = G.nodes\n",
    "## Convert classes labels to numbers for plotting\n",
    "colors = [class_to_int[G.nodes[ni][\"group\"]] for ni in nodelist]\n",
    "nx.draw_networkx(G,\n",
    "                 pos=pos,\n",
    "                 node_size=50,\n",
    "                 font_size=7,\n",
    "                 width=0.1, ## Edge width\n",
    "                 nodelist=nodelist, \n",
    "                 node_color=colors,\n",
    "                 cmap=\"Set1\",\n",
    "                 with_labels=True,\n",
    "                 labels={ni:G.nodes[ni][\"group\"] for ni in nodelist}, ## Label each node (student) with the class she attends\n",
    "                 font_color=\"k\"\n",
    "                )\n",
    "plt.axis(\"off\")"
   ]
  },
  {
   "cell_type": "markdown",
   "id": "f3dd29ba",
   "metadata": {},
   "source": [
    "# Analyzing the network"
   ]
  },
  {
   "cell_type": "markdown",
   "id": "0b5aed37",
   "metadata": {},
   "source": [
    "### Average degree and density"
   ]
  },
  {
   "cell_type": "code",
   "execution_count": null,
   "id": "4e5ac115",
   "metadata": {},
   "outputs": [],
   "source": [
    "E = G.number_of_edges()\n",
    "N = G.order()"
   ]
  },
  {
   "cell_type": "code",
   "execution_count": null,
   "id": "59b3f18e",
   "metadata": {},
   "outputs": [],
   "source": [
    "print (\"Average degree=\", 2*E/N)"
   ]
  },
  {
   "cell_type": "code",
   "execution_count": null,
   "id": "49467cd0",
   "metadata": {},
   "outputs": [],
   "source": [
    "dens = E/(0.5*N*(N-1))\n",
    "\"Density\", dens, nx.density(G)"
   ]
  },
  {
   "cell_type": "markdown",
   "id": "56073029",
   "metadata": {},
   "source": [
    "## Node properties"
   ]
  },
  {
   "cell_type": "markdown",
   "id": "5b712927",
   "metadata": {},
   "source": [
    "### Degree centrality"
   ]
  },
  {
   "cell_type": "code",
   "execution_count": null,
   "id": "c565849a",
   "metadata": {},
   "outputs": [],
   "source": [
    "## Compute degree of the nodes\n",
    "degree_dct = G.degree()\n",
    "## Save it as node attribute in the graph object\n",
    "nx.set_node_attributes(G, dict(degree_dct), name=\"degree\")\n",
    "## Compute weighted degree of the nodes\n",
    "degree_w_dct = G.degree(weight=\"interactions\")\n",
    "## Save it as node attribute in the graph object\n",
    "nx.set_node_attributes(G, dict(degree_w_dct), name=\"degree_w\")"
   ]
  },
  {
   "cell_type": "code",
   "execution_count": null,
   "id": "8fb80a58",
   "metadata": {},
   "outputs": [],
   "source": [
    "G.nodes[1]"
   ]
  },
  {
   "cell_type": "code",
   "execution_count": null,
   "id": "f8d3556c",
   "metadata": {},
   "outputs": [],
   "source": [
    "# nodes_df = pd.DataFrame.from_dict(dict(degree_dct),orient=\"index\",columns=[\"degree\"])\n",
    "metadata['degree'] = metadata[\"n\"].map(dict(degree_dct))"
   ]
  },
  {
   "cell_type": "code",
   "execution_count": null,
   "id": "05ece8ef",
   "metadata": {},
   "outputs": [],
   "source": [
    "metadata.sort_values(\"degree\",ascending=False).head(10)"
   ]
  },
  {
   "cell_type": "code",
   "execution_count": null,
   "id": "cdf8de78",
   "metadata": {},
   "outputs": [],
   "source": [
    "metadata['degree_w'] = metadata[\"n\"].map(dict(degree_w_dct))\n",
    "metadata.sort_values(\"degree_w\",ascending=False).head(10)"
   ]
  },
  {
   "cell_type": "markdown",
   "id": "def46df0",
   "metadata": {},
   "source": [
    "### Degree distribution"
   ]
  },
  {
   "cell_type": "code",
   "execution_count": null,
   "id": "5004afe5",
   "metadata": {},
   "outputs": [],
   "source": [
    "def discrete_distribution(x):\n",
    "    cntr = Counter(x)\n",
    "    distrib_xy = dict(cntr).items()\n",
    "    x,y = zip(*distrib_xy)\n",
    "    return x,y"
   ]
  },
  {
   "cell_type": "code",
   "execution_count": null,
   "id": "4a679ca6",
   "metadata": {},
   "outputs": [],
   "source": [
    "# from scipy import stats"
   ]
  },
  {
   "cell_type": "code",
   "execution_count": null,
   "id": "0e988be2",
   "metadata": {},
   "outputs": [],
   "source": [
    "metadata[\"degree\"].hist(bins=20,density=True)\n",
    "# plt.plot(np.arange(0,100),stats.poisson.pmf(np.arange(0,100),2*E/N))\n",
    "plt.xlabel(\"Degree\")\n",
    "plt.ylabel(\"Probability\")\n",
    "plt.gca().grid(False)\n",
    "plt.show()"
   ]
  },
  {
   "cell_type": "code",
   "execution_count": null,
   "id": "b6c800a4",
   "metadata": {},
   "outputs": [],
   "source": [
    "metadata[\"degree_w\"].hist(bins=30,density=True)\n",
    "# plt.plot(np.arange(0,5000),stats.expon.pdf(np.arange(0,5000),scale=np.mean(metadata[\"degree_w\"])))\n",
    "plt.xlabel(\"Weight\")\n",
    "plt.ylabel(\"Probability\")\n",
    "plt.gca().grid(False)\n",
    "plt.show()"
   ]
  },
  {
   "cell_type": "markdown",
   "id": "bfd59edf",
   "metadata": {},
   "source": [
    "### Draw network scaling node size with degree"
   ]
  },
  {
   "cell_type": "code",
   "execution_count": null,
   "id": "48288bf9",
   "metadata": {},
   "outputs": [],
   "source": [
    "def rescale(x,xmin,xmax,a,b):\n",
    "    s = (b-a)/(xmax-xmin)\n",
    "    return (x-xmin)*s + a"
   ]
  },
  {
   "cell_type": "code",
   "execution_count": null,
   "id": "9841d224",
   "metadata": {},
   "outputs": [],
   "source": [
    "nodelist = G.nodes\n",
    "node_size = [rescale(degree_w_dct[ni],1,max(metadata[\"degree_w\"]),2,100) for ni in nodelist]\n",
    "nx.draw_networkx(G,\n",
    "                 pos=pos,\n",
    "#                  node_size=100,\n",
    "                 font_size=7,\n",
    "                 width=0.1,\n",
    "                 node_size=node_size,\n",
    "                node_color=node_size)\n",
    "plt.axis(\"off\")"
   ]
  },
  {
   "cell_type": "markdown",
   "id": "f8483c67",
   "metadata": {},
   "source": [
    "### Eigenvector centrality"
   ]
  },
  {
   "cell_type": "code",
   "execution_count": null,
   "id": "7b9381f2",
   "metadata": {},
   "outputs": [],
   "source": [
    "## Careful with the weight parameter!\n",
    "eigen_dct = nx.eigenvector_centrality(G,weight=\"interactions\",max_iter=1000)"
   ]
  },
  {
   "cell_type": "code",
   "execution_count": null,
   "id": "0f1b8c8c",
   "metadata": {},
   "outputs": [],
   "source": [
    "nx.set_node_attributes(G,eigen_dct,name=\"eigenvector\")\n",
    "metadata['eigenvector'] = metadata.n.map(eigen_dct)"
   ]
  },
  {
   "cell_type": "code",
   "execution_count": null,
   "id": "80f61367",
   "metadata": {},
   "outputs": [],
   "source": [
    "metadata.sort_values(\"eigenvector\",ascending=False).head(10)"
   ]
  },
  {
   "cell_type": "markdown",
   "id": "c438af32",
   "metadata": {},
   "source": [
    "### PageRank centrality"
   ]
  },
  {
   "cell_type": "code",
   "execution_count": null,
   "id": "3d7585ef",
   "metadata": {},
   "outputs": [],
   "source": [
    "## Careful with the weight parameter!\n",
    "pr_dct = nx.pagerank(G,weight=\"interactions\",max_iter=1000)"
   ]
  },
  {
   "cell_type": "code",
   "execution_count": null,
   "id": "80e863cb",
   "metadata": {},
   "outputs": [],
   "source": [
    "nx.set_node_attributes(G,pr_dct,name=\"pagerank\")\n",
    "metadata['pagerank'] = metadata.n.map(pr_dct)"
   ]
  },
  {
   "cell_type": "code",
   "execution_count": null,
   "id": "d59f22f1",
   "metadata": {},
   "outputs": [],
   "source": [
    "metadata.sort_values(\"pagerank\",ascending=False).head(10)"
   ]
  },
  {
   "cell_type": "markdown",
   "id": "a61ccc63",
   "metadata": {},
   "source": [
    "### Betweenness centrality"
   ]
  },
  {
   "cell_type": "code",
   "execution_count": null,
   "id": "551dfa5c",
   "metadata": {},
   "outputs": [],
   "source": [
    "## Careful with the weight parameter! \n",
    "betwn_dct = nx.betweenness_centrality(G,weight=\"interactions_inv\")"
   ]
  },
  {
   "cell_type": "code",
   "execution_count": null,
   "id": "b9801782",
   "metadata": {},
   "outputs": [],
   "source": [
    "nx.set_node_attributes(G,betwn_dct,name=\"betweenness\")"
   ]
  },
  {
   "cell_type": "code",
   "execution_count": null,
   "id": "e10a572f",
   "metadata": {},
   "outputs": [],
   "source": [
    "metadata['betweenness'] = metadata.n.map(betwn_dct)"
   ]
  },
  {
   "cell_type": "code",
   "execution_count": null,
   "id": "c6568671",
   "metadata": {},
   "outputs": [],
   "source": [
    "metadata.sort_values(\"betweenness\",ascending=False).head(10)"
   ]
  },
  {
   "cell_type": "markdown",
   "id": "31d88c9c",
   "metadata": {},
   "source": [
    "### Closeness centrality"
   ]
  },
  {
   "cell_type": "code",
   "execution_count": null,
   "id": "95752718",
   "metadata": {},
   "outputs": [],
   "source": [
    "## Careful with the weight parameter!\n",
    "close_dct = nx.closeness_centrality(G,distance=\"interactions_inv\")"
   ]
  },
  {
   "cell_type": "code",
   "execution_count": null,
   "id": "29ccf0a0",
   "metadata": {},
   "outputs": [],
   "source": [
    "nx.set_node_attributes(G,close_dct,name=\"closeness\")"
   ]
  },
  {
   "cell_type": "code",
   "execution_count": null,
   "id": "de31fad2",
   "metadata": {},
   "outputs": [],
   "source": [
    "metadata['closeness'] = metadata.n.map(close_dct)"
   ]
  },
  {
   "cell_type": "code",
   "execution_count": null,
   "id": "6be5dda2",
   "metadata": {},
   "outputs": [],
   "source": [
    "metadata.sort_values(\"closeness\",ascending=False).head(10)"
   ]
  },
  {
   "cell_type": "markdown",
   "id": "9d37e6c1",
   "metadata": {},
   "source": [
    "### Clustering"
   ]
  },
  {
   "cell_type": "code",
   "execution_count": null,
   "id": "c7650bc5",
   "metadata": {},
   "outputs": [],
   "source": [
    "## Clustering\n",
    "clust_dct = nx.clustering(G)"
   ]
  },
  {
   "cell_type": "code",
   "execution_count": null,
   "id": "91f34423",
   "metadata": {},
   "outputs": [],
   "source": [
    "nx.set_node_attributes(G,clust_dct,name=\"clustering\")\n",
    "metadata['clustering'] = metadata.n.map(clust_dct)"
   ]
  },
  {
   "cell_type": "code",
   "execution_count": null,
   "id": "141b6a3b",
   "metadata": {},
   "outputs": [],
   "source": [
    "metadata.sort_values(\"clustering\",ascending=False).head(10)"
   ]
  },
  {
   "cell_type": "markdown",
   "id": "fd50f353",
   "metadata": {},
   "source": [
    "## Correlation between different node properties"
   ]
  },
  {
   "cell_type": "code",
   "execution_count": null,
   "id": "73667806",
   "metadata": {},
   "outputs": [],
   "source": [
    "plt.ioff()\n",
    "## Pairplot\n",
    "pg = sns.pairplot(metadata[[\"degree\",\"degree_w\",\"eigenvector\",\"pagerank\",\"betweenness\",\"closeness\",\"clustering\"]])\n",
    "pg.set(xscale=\"log\",yscale=\"log\")\n",
    "plt.savefig(\"../Figures/node_prop_correl.pdf\")\n",
    "plt.close()\n",
    "plt.ion()"
   ]
  },
  {
   "cell_type": "markdown",
   "id": "6dbc614b",
   "metadata": {},
   "source": [
    "# Groups of nodes (communities)"
   ]
  },
  {
   "cell_type": "code",
   "execution_count": null,
   "id": "e146be65",
   "metadata": {},
   "outputs": [],
   "source": [
    "import graph_tool\n",
    "from graph_tool import draw\n",
    "from graph_tool import inference"
   ]
  },
  {
   "cell_type": "markdown",
   "id": "6cf5e95d",
   "metadata": {},
   "source": [
    "### Convert NetworkX to graph-tool"
   ]
  },
  {
   "cell_type": "code",
   "execution_count": null,
   "id": "2201fd9b",
   "metadata": {},
   "outputs": [],
   "source": [
    "## Networkx to graph-tool through adjacency matrix\n",
    "nodelist = list(G.nodes)\n",
    "A = nx.to_numpy_array(G,weight=\"interactions\",nodelist=nodelist)\n",
    "## Since the network is undirected, convert full matrix to upper triangular\n",
    "Atu = np.triu(A)\n",
    "## Extract non-zero indices (the list of links)\n",
    "Anz = np.nonzero(Atu)"
   ]
  },
  {
   "cell_type": "code",
   "execution_count": null,
   "id": "58140aca",
   "metadata": {},
   "outputs": [],
   "source": [
    "## Build the network as per https://graph-tool.skewed.de/static/doc/quickstart.html (search for undirected graphs)\n",
    "ug = graph_tool.Graph(\n",
    "    np.array([Anz[0], Anz[1], np.log(Atu[Anz])]).T, ## List of edges with their weights\n",
    "    eprops=[(\"weight\", \"double\")], ## Creating the edge property to store the weight\n",
    "    directed=False\n",
    "    )"
   ]
  },
  {
   "cell_type": "markdown",
   "id": "93c4a690",
   "metadata": {},
   "source": [
    "### Find communities by fitting Assortative Schocastic Blockmodel with graph-tool"
   ]
  },
  {
   "cell_type": "code",
   "execution_count": null,
   "id": "b22ff59c",
   "metadata": {},
   "outputs": [],
   "source": [
    "## Unweighted assortative\n",
    "state_uw_ass = inference.minimize_blockmodel_dl(\n",
    "    ug, \n",
    "    state=inference.PPBlockState ## Assortative model\n",
    "    )\n",
    "## Partition quality metric (\"goodness of fit\")- the lower the better\n",
    "state_uw_ass.entropy()"
   ]
  },
  {
   "cell_type": "code",
   "execution_count": null,
   "id": "fcdb9558",
   "metadata": {},
   "outputs": [],
   "source": [
    "## Refine fit\n",
    "for i in range(100):\n",
    "    state_uw_ass.multiflip_mcmc_sweep(beta=np.inf, niter=10)\n",
    "state_uw_ass.entropy()"
   ]
  },
  {
   "cell_type": "code",
   "execution_count": null,
   "id": "f256616e",
   "metadata": {},
   "outputs": [],
   "source": [
    "Counter(state_uw_ass.get_blocks())"
   ]
  },
  {
   "cell_type": "code",
   "execution_count": null,
   "id": "55c6b5cd",
   "metadata": {},
   "outputs": [],
   "source": [
    "## Store result in our networkx graph\n",
    "for i, n in enumerate(nodelist):\n",
    "    r = state_uw_ass.get_blocks()[i]\n",
    "    G.nodes[n][\"assort_comm\"] = r"
   ]
  },
  {
   "cell_type": "code",
   "execution_count": null,
   "id": "9b3dd929",
   "metadata": {},
   "outputs": [],
   "source": [
    "## Calculate node positions to plot result\n",
    "pos = draw.sfdp_layout(ug,eweight=ug.ep.weight)"
   ]
  },
  {
   "cell_type": "code",
   "execution_count": null,
   "id": "0b47a2d0",
   "metadata": {},
   "outputs": [],
   "source": [
    "## Plot result\n",
    "state_uw_ass.draw(pos=pos, output=\"../Figures/thiers_uw_ass.png\",output_size=(4096,4096))"
   ]
  },
  {
   "cell_type": "markdown",
   "id": "c9441adf",
   "metadata": {},
   "source": [
    "### Hierarchical Schocastic Blockmodel (unweighted)"
   ]
  },
  {
   "cell_type": "code",
   "execution_count": null,
   "id": "2fc4c598",
   "metadata": {},
   "outputs": [],
   "source": [
    "state_hierachy = inference.minimize_nested_blockmodel_dl(ug)\n",
    "state_hierachy.entropy()"
   ]
  },
  {
   "cell_type": "code",
   "execution_count": null,
   "id": "29e7cd8f",
   "metadata": {},
   "outputs": [],
   "source": [
    "for i in range(100):\n",
    "    state_hierachy.multiflip_mcmc_sweep(beta=np.inf, niter=10)"
   ]
  },
  {
   "cell_type": "code",
   "execution_count": null,
   "id": "8b2a1653",
   "metadata": {},
   "outputs": [],
   "source": [
    "state_hierachy.entropy()"
   ]
  },
  {
   "cell_type": "code",
   "execution_count": null,
   "id": "641e9935",
   "metadata": {},
   "outputs": [],
   "source": [
    "## Plot result\n",
    "state_hierachy.draw(pos=pos, output=\"../Figures/Thiers_uw_hierarchical.png\",output_size=(4048,4048))"
   ]
  },
  {
   "cell_type": "code",
   "execution_count": null,
   "id": "b759a820",
   "metadata": {
    "scrolled": true
   },
   "outputs": [],
   "source": [
    "## Layers and blocks per layer\n",
    "state_hierachy.print_summary()"
   ]
  },
  {
   "cell_type": "code",
   "execution_count": null,
   "id": "8d8f7c81",
   "metadata": {},
   "outputs": [],
   "source": [
    "## Store result in networkx graph\n",
    "levels_hierarchical = state_hierachy.get_levels()\n",
    "for i, n in enumerate(nodelist):\n",
    "    r = levels_hierarchical[0].get_blocks()[i]\n",
    "    G.nodes[n][\"lvl_0\"] = r\n",
    "    for lvli in range(1,10):\n",
    "        r = levels_hierarchical[lvli].get_blocks()[r]\n",
    "        G.nodes[n][\"lvl_\"+str(lvli)] = r"
   ]
  },
  {
   "cell_type": "markdown",
   "id": "eb0133a3",
   "metadata": {},
   "source": [
    "### Hierarchical Stochastic Blockmodel with edge weights"
   ]
  },
  {
   "cell_type": "code",
   "execution_count": null,
   "id": "3949628f",
   "metadata": {},
   "outputs": [],
   "source": [
    "np.log(contact_aggr[\"interactions\"]).hist(bins=100,density=True)\n",
    "plt.gca().grid(False)\n",
    "plt.xlabel(\"log(Interactions)\")\n",
    "plt.ylabel(\"Probability\")\n",
    "# plt.semilogy()"
   ]
  },
  {
   "cell_type": "code",
   "execution_count": null,
   "id": "0a67cd82",
   "metadata": {},
   "outputs": [],
   "source": [
    "## Compute\n",
    "state_wght = inference.minimize_nested_blockmodel_dl(\n",
    "    ug,\n",
    "    state_args=dict(recs=[ug.ep.weight],rec_types=[\"real-exponential\"]) ## Model weights\n",
    "    )"
   ]
  },
  {
   "cell_type": "code",
   "execution_count": null,
   "id": "6458fb12",
   "metadata": {},
   "outputs": [],
   "source": [
    "state_wght.entropy()"
   ]
  },
  {
   "cell_type": "code",
   "execution_count": null,
   "id": "e34df7c9",
   "metadata": {},
   "outputs": [],
   "source": [
    "for i in range(100):\n",
    "    state_wght.multiflip_mcmc_sweep(niter=10, beta=np.inf)"
   ]
  },
  {
   "cell_type": "code",
   "execution_count": null,
   "id": "78eb9179",
   "metadata": {},
   "outputs": [],
   "source": [
    "state_wght.entropy()"
   ]
  },
  {
   "cell_type": "code",
   "execution_count": null,
   "id": "1cc539c2",
   "metadata": {},
   "outputs": [],
   "source": [
    "## Plot result\n",
    "state_wght.draw(edge_color=ug.ep.weight, ecmap=(matplotlib.cm.inferno, .6),\n",
    "           eorder=ug.ep.weight, edge_pen_width=draw.prop_to_size(ug.ep.weight, 2, 8, power=1),\n",
    "           edge_gradient=[], output=\"../Figures/Thiers_weighted_hierarchical.pdf\")"
   ]
  },
  {
   "cell_type": "code",
   "execution_count": null,
   "id": "41da7bad",
   "metadata": {},
   "outputs": [],
   "source": [
    "## Layers and blocks per layer\n",
    "state_wght.print_summary()"
   ]
  },
  {
   "cell_type": "code",
   "execution_count": null,
   "id": "79e7e79a",
   "metadata": {},
   "outputs": [],
   "source": [
    "## Store result in networkx graph\n",
    "levels_wght = state_wght.get_levels()\n",
    "for i, n in enumerate(nodelist):\n",
    "    r = levels_wght[0].get_blocks()[i]\n",
    "    G.nodes[n][\"w_lvl_0\"] = r\n",
    "    for lvli in range(1,10):\n",
    "        r = levels_wght[lvli].get_blocks()[r]\n",
    "        G.nodes[n][\"w_lvl_\"+str(lvli)] = r"
   ]
  },
  {
   "cell_type": "markdown",
   "id": "03162736",
   "metadata": {},
   "source": [
    "# k-core decomposition (extraction of the network backbone)"
   ]
  },
  {
   "cell_type": "code",
   "execution_count": null,
   "id": "4b39a50a",
   "metadata": {},
   "outputs": [],
   "source": [
    "cores_dct = {}\n",
    "for ki in range(1,40):\n",
    "    node_lst_i = nx.k_core(G,ki).nodes\n",
    "    cores_dct_i = {ni:ki for ni in node_lst_i}\n",
    "    cores_dct.update(cores_dct_i)\n",
    "    print (len(node_lst_i))\n",
    "    if len(node_lst_i) <= 0:\n",
    "        break"
   ]
  },
  {
   "cell_type": "code",
   "execution_count": null,
   "id": "625f8dfd",
   "metadata": {},
   "outputs": [],
   "source": [
    "nx.set_node_attributes(G, cores_dct, name=\"k-core\")"
   ]
  },
  {
   "cell_type": "markdown",
   "id": "830025ae",
   "metadata": {},
   "source": [
    "# Export NetworkX graph to read it with gephi"
   ]
  },
  {
   "cell_type": "code",
   "execution_count": null,
   "id": "9e18c2b5",
   "metadata": {},
   "outputs": [],
   "source": [
    "nx.write_gexf(G,\"../Results/Thiers_processed_TEST2.gexf\")"
   ]
  },
  {
   "cell_type": "markdown",
   "id": "7a4aa508",
   "metadata": {},
   "source": [
    "## Extra: Is the network small-world?\n",
    "https://chih-ling-hsu.github.io/2020/05/15/Gnp"
   ]
  },
  {
   "cell_type": "code",
   "execution_count": null,
   "id": "fb7c9051",
   "metadata": {},
   "outputs": [],
   "source": [
    "## Average degree of the network\n",
    "kav = 2*E/N"
   ]
  },
  {
   "cell_type": "code",
   "execution_count": null,
   "id": "f3291ce9",
   "metadata": {},
   "outputs": [],
   "source": [
    "## Network density (probability that any two nodes are connected)\n",
    "## This is equal to the clustering of a random network\n",
    "kav/(N-1)"
   ]
  },
  {
   "cell_type": "code",
   "execution_count": null,
   "id": "6e6551b8",
   "metadata": {},
   "outputs": [],
   "source": [
    "## Average clustering of the network (much larger than for the random network)\n",
    "nx.average_clustering(G)"
   ]
  },
  {
   "cell_type": "code",
   "execution_count": null,
   "id": "f6ffdad0",
   "metadata": {},
   "outputs": [],
   "source": [
    "## Average path length of a random network (approximation)\n",
    "np.log(N)/np.log(kav)"
   ]
  },
  {
   "cell_type": "code",
   "execution_count": null,
   "id": "68606cdb",
   "metadata": {},
   "outputs": [],
   "source": [
    "## Average path length of our network\n",
    "nx.average_shortest_path_length(G)"
   ]
  },
  {
   "cell_type": "code",
   "execution_count": null,
   "id": "990bb8b1",
   "metadata": {},
   "outputs": [],
   "source": []
  }
 ],
 "metadata": {
  "kernelspec": {
   "display_name": "Python 3 (ipykernel)",
   "language": "python",
   "name": "python3"
  },
  "language_info": {
   "codemirror_mode": {
    "name": "ipython",
    "version": 3
   },
   "file_extension": ".py",
   "mimetype": "text/x-python",
   "name": "python",
   "nbconvert_exporter": "python",
   "pygments_lexer": "ipython3",
   "version": "3.9.7"
  }
 },
 "nbformat": 4,
 "nbformat_minor": 5
}
